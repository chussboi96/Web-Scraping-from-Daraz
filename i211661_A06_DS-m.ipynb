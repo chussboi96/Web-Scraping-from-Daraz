{
 "cells": [
  {
   "cell_type": "markdown",
   "metadata": {},
   "source": [
    "# Name: Hammad Javaid\n",
    "# Roll No.: i21-1661\n",
    "# Assignment 6\n",
    "# DS-M"
   ]
  },
  {
   "cell_type": "markdown",
   "metadata": {},
   "source": [
    "# Instruction"
   ]
  },
  {
   "cell_type": "markdown",
   "metadata": {},
   "source": [
    "1. Don’t plagiarize, Plagiarism would lead to straight zero\n",
    "2. Clearly mention your NAME and ROLL NO#.\n",
    "3. Late submissions are not allowed. Start Early."
   ]
  },
  {
   "cell_type": "code",
   "execution_count": 1,
   "metadata": {},
   "outputs": [],
   "source": [
    "#import libraries\n",
    "import warnings\n",
    "warnings.filterwarnings('ignore')\n",
    "import time\n",
    "import pandas as pd\n",
    "from selenium import webdriver\n",
    "from selenium.webdriver.edge.options import Options\n",
    "from selenium.webdriver.common.keys import Keys\n",
    "from webdrivermanager.chrome import ChromeDriverManager\n",
    "from selenium.webdriver.common.by import By\n",
    "from selenium.common.exceptions import NoSuchElementException"
   ]
  },
  {
   "cell_type": "markdown",
   "metadata": {},
   "source": [
    "# Question 1  (10 marks)"
   ]
  },
  {
   "cell_type": "markdown",
   "metadata": {},
   "source": [
    "Scrape 3 pages of reviews for a single product listing using product URL.<br /> Note: Product must have more than 1 review page. The code must be generic and should work for every product listing URL, with proper checks in place."
   ]
  },
  {
   "cell_type": "code",
   "execution_count": 2,
   "metadata": {},
   "outputs": [],
   "source": [
    "url = 'https://www.daraz.pk/products/tech-tok-tws-rave-bt-wireless-bluetooth-52-earbuds-finger-touch-control-noise-cancellation-with-led-display-sport-earphones-with-power-bank-in-ear-base-with-built-mic-i282591015-s1520356379.html?spm=a2a0e.searchlist.list.6.15b234b5vgcnkh&search=1'"
   ]
  },
  {
   "cell_type": "code",
   "execution_count": 90,
   "metadata": {},
   "outputs": [],
   "source": [
    "Path = r'C:\\Users\\HAMMAD\\Users\\chromedriver.exe'\n",
    "chromeOptions = webdriver.ChromeOptions()\n",
    "\n",
    "#chromeOptions.add_argument('--headless')\n",
    "chromeOptions.add_argument(\"--incognito\")\n",
    "Driver = webdriver.Chrome(executable_path=Path, options=chromeOptions)\n",
    "Driver.get(url)\n",
    "time.sleep(20)\n"
   ]
  },
  {
   "cell_type": "code",
   "execution_count": 4,
   "metadata": {},
   "outputs": [],
   "source": [
    "Driver.execute_script(\"window.scrollTo(0,document.body.scrollHeight)\")"
   ]
  },
  {
   "cell_type": "code",
   "execution_count": null,
   "metadata": {},
   "outputs": [],
   "source": [
    "#Driver.find_element(By.XPATH)"
   ]
  },
  {
   "cell_type": "code",
   "execution_count": 13,
   "metadata": {},
   "outputs": [],
   "source": [
    "#names xpath\n",
    "xpName='//*[@id=\"module_product_review\"]/div/div/div[3]/div[1]/div[1]/div[2]/span[1]/text()[2]'\n",
    "#review xpath\n",
    "xpReviewText='//*[@id=\"module_product_review\"]/div/div/div[3]/div[1]/div[1]/div[3]/div[1]/text()'\n",
    "#next page xpath\n",
    "xpNextPage='//*[@id=\"module_product_review\"]/div/div/div[3]/div[2]/div/button[2]/i'\n",
    "checkpage=Driver.find_element(By.XPATH,'/html/body/div[4]/div/div[9]/div[1]/div[2]/div/div/div/div[3]/div[2]/div/div/button[3]')"
   ]
  },
  {
   "cell_type": "code",
   "execution_count": 25,
   "metadata": {},
   "outputs": [
    {
     "name": "stdout",
     "output_type": "stream",
     "text": [
      "by Umair A. : v good packing\n",
      " delivery on time\n",
      "v good backup time\n",
      "and paisay kharchnay ka dukh nai hoa jo chaha wo paya\n",
      "buds ka time bhi 4 hours continuesly ha\n",
      "V Good product\n",
      "by 3***8 : ESKI EK SIDE KA SOUND NI ATA OR ARRANGE B BOHAT KAM HA RIGHT WALI BLUETOOTH MISSING KRTI HA SOUND BHI NAI HA\n",
      "by M***. : I loved it! Awesome Product and in affordable price...Sound Test Ok...Functions are Ok...Package is Delivered in Time And Safe.. I Recommend You This Product Who want Best wireless earbuds in Affordable Price...✌🏻\n",
      "by ****7 : Behtreen products hy Sound bhy Acha hy jesy dekhy thy wohy hy 100% Good quality\n",
      "time per deliver ho gay\n",
      "thanks Draz\n",
      "by Imran J. : Attractive hain kafi.. awaz b achi hai but awaz katti hai beech beech main jese koi video dekh rahe hn to kbhi kbhi awaz kat jati hai.\n",
      "by Abdul R. : Awesome product, mind-blowing sound quality, dilevery on time, charging time fantastic 😍\n",
      "love this Shoping through daraz thank you ☺️☺️☺️\n",
      "by Syed J. : Excellent product. battery time, voice quality and charging base is of very high quality. strongly recommended. \n",
      "by 0***9 : assalam u alikum \n",
      "                               . . . . tech tok two m10 bt wireless Bluetooth meanea draz sa purchase kiea thay JIS ko use kia meara first time may experience  accha rha mujha itnay munasib rate ma bhoth acchi chies milgie bhoth shukria draz ka. 🥳🥳🥳🥳\n",
      "by A***. : At this price these Air dots are grate 👍🏻👍🏻👍🏻🥳🥳🥳🤯🤯🤯\n",
      "the battery 🔋🔋 timing is also very good\n",
      "the sound and the Bass is so smooth and perfect \n",
      "Recommend 👍🏻👍🏻👍🏻\n",
      "by Usman A. : Boht hi achi quality ha ma 15 din sa use kr rha hu battery timing sound everything ok ha itni munasib price ma ap ko asi chez kahi nhi mily gi \n",
      "by Sajjad A. : it's amazing 🤩🤩🤩 Love it 🤩💖 Nice Sound working twin and Awesome Look same as Shown Thank you Daraz Thank you Saller 🥰🥰😘😘😘💋💋❤️\n",
      "by Zafar A. : Delivered on time\n",
      "Working Really fine\n",
      "Sound Quality  💯 good\n",
      "but a little disappointed due to some reasons\n",
      "Cable isn't working but that's not a big issue \n",
      "some scratches on the back side of the box \n",
      "looks like it was opened for checking or something\n",
      "but over all good 👍 seller\n",
      "by S***. : Nice product. Really appreciate work. \n",
      "by Muhammad W. : received on time, package was in delicious packing, sound quality is wonderful like buffer, seller response in chat is 10/10,  battery backup is also delicious ... in short 2000 mhz for box and 50 mhz for each budd will never find  in this low price range.\n",
      "by 3***9 : very amazing bahi kamal hay battery bohath hi ziyada achi hay 👉sirf aik masla hay sound quality normal hay aur call per kafi up bolna perta hay baqi ok hay 💐\n"
     ]
    }
   ],
   "source": [
    "###### Driver.get(url)\n",
    "# time.sleep(20)\n",
    "Name=[]\n",
    "ReviewText=[]\n",
    "if checkpage.text == '3':\n",
    "    for i in range(0,3):\n",
    "        if i>0:\n",
    "            #Driver.execute_script(\"window.scrollTo(0,1500)\")\n",
    "            time.sleep(3)\n",
    "            Driver.find_element(By.XPATH, xpNextPage).click()\n",
    "            time.sleep(3)\n",
    "        for j in range(1,6):\n",
    "            nameFetch =  Driver.find_element(By.XPATH,'//*[@id=\"module_product_review\"]/div/div/div[3]/div[1]/div['+str(j)+']/div[2]/span[1]')\n",
    "            reviewFetch = Driver.find_element(By.XPATH,'//*[@id=\"module_product_review\"]/div/div/div[3]/div[1]/div['+str(j)+']/div[3]/div[1]')\n",
    "            print(nameFetch.text+\" : \"+reviewFetch.text )\n",
    "            Name.append(nameFetch.text.replace(\"by \",\"\"))\n",
    "            ReviewText.append(reviewFetch.text)\n"
   ]
  },
  {
   "cell_type": "code",
   "execution_count": 26,
   "metadata": {},
   "outputs": [],
   "source": [
    "data1=pd.DataFrame({\"Name\":Name,\n",
    "                   \"Review text\":ReviewText})"
   ]
  },
  {
   "cell_type": "code",
   "execution_count": 27,
   "metadata": {},
   "outputs": [
    {
     "data": {
      "text/html": [
       "<div>\n",
       "<style scoped>\n",
       "    .dataframe tbody tr th:only-of-type {\n",
       "        vertical-align: middle;\n",
       "    }\n",
       "\n",
       "    .dataframe tbody tr th {\n",
       "        vertical-align: top;\n",
       "    }\n",
       "\n",
       "    .dataframe thead th {\n",
       "        text-align: right;\n",
       "    }\n",
       "</style>\n",
       "<table border=\"1\" class=\"dataframe\">\n",
       "  <thead>\n",
       "    <tr style=\"text-align: right;\">\n",
       "      <th></th>\n",
       "      <th>Name</th>\n",
       "      <th>Review text</th>\n",
       "    </tr>\n",
       "  </thead>\n",
       "  <tbody>\n",
       "    <tr>\n",
       "      <th>0</th>\n",
       "      <td>Umair A.</td>\n",
       "      <td>v good packing\\n delivery on time\\nv good back...</td>\n",
       "    </tr>\n",
       "    <tr>\n",
       "      <th>1</th>\n",
       "      <td>3***8</td>\n",
       "      <td>ESKI EK SIDE KA SOUND NI ATA OR ARRANGE B BOHA...</td>\n",
       "    </tr>\n",
       "    <tr>\n",
       "      <th>2</th>\n",
       "      <td>M***.</td>\n",
       "      <td>I loved it! Awesome Product and in affordable ...</td>\n",
       "    </tr>\n",
       "    <tr>\n",
       "      <th>3</th>\n",
       "      <td>****7</td>\n",
       "      <td>Behtreen products hy Sound bhy Acha hy jesy de...</td>\n",
       "    </tr>\n",
       "    <tr>\n",
       "      <th>4</th>\n",
       "      <td>Imran J.</td>\n",
       "      <td>Attractive hain kafi.. awaz b achi hai but awa...</td>\n",
       "    </tr>\n",
       "    <tr>\n",
       "      <th>5</th>\n",
       "      <td>Abdul R.</td>\n",
       "      <td>Awesome product, mind-blowing sound quality, d...</td>\n",
       "    </tr>\n",
       "    <tr>\n",
       "      <th>6</th>\n",
       "      <td>Syed J.</td>\n",
       "      <td>Excellent product. battery time, voice quality...</td>\n",
       "    </tr>\n",
       "    <tr>\n",
       "      <th>7</th>\n",
       "      <td>0***9</td>\n",
       "      <td>assalam u alikum \\n                           ...</td>\n",
       "    </tr>\n",
       "    <tr>\n",
       "      <th>8</th>\n",
       "      <td>A***.</td>\n",
       "      <td>At this price these Air dots are grate 👍🏻👍🏻👍🏻🥳...</td>\n",
       "    </tr>\n",
       "    <tr>\n",
       "      <th>9</th>\n",
       "      <td>Usman A.</td>\n",
       "      <td>Boht hi achi quality ha ma 15 din sa use kr rh...</td>\n",
       "    </tr>\n",
       "    <tr>\n",
       "      <th>10</th>\n",
       "      <td>Sajjad A.</td>\n",
       "      <td>it's amazing 🤩🤩🤩 Love it 🤩💖 Nice Sound working...</td>\n",
       "    </tr>\n",
       "    <tr>\n",
       "      <th>11</th>\n",
       "      <td>Zafar A.</td>\n",
       "      <td>Delivered on time\\nWorking Really fine\\nSound ...</td>\n",
       "    </tr>\n",
       "    <tr>\n",
       "      <th>12</th>\n",
       "      <td>S***.</td>\n",
       "      <td>Nice product. Really appreciate work.</td>\n",
       "    </tr>\n",
       "    <tr>\n",
       "      <th>13</th>\n",
       "      <td>Muhammad W.</td>\n",
       "      <td>received on time, package was in delicious pac...</td>\n",
       "    </tr>\n",
       "    <tr>\n",
       "      <th>14</th>\n",
       "      <td>3***9</td>\n",
       "      <td>very amazing bahi kamal hay battery bohath hi ...</td>\n",
       "    </tr>\n",
       "  </tbody>\n",
       "</table>\n",
       "</div>"
      ],
      "text/plain": [
       "           Name                                        Review text\n",
       "0      Umair A.  v good packing\\n delivery on time\\nv good back...\n",
       "1         3***8  ESKI EK SIDE KA SOUND NI ATA OR ARRANGE B BOHA...\n",
       "2         M***.  I loved it! Awesome Product and in affordable ...\n",
       "3         ****7  Behtreen products hy Sound bhy Acha hy jesy de...\n",
       "4      Imran J.  Attractive hain kafi.. awaz b achi hai but awa...\n",
       "5      Abdul R.  Awesome product, mind-blowing sound quality, d...\n",
       "6       Syed J.  Excellent product. battery time, voice quality...\n",
       "7         0***9  assalam u alikum \\n                           ...\n",
       "8         A***.  At this price these Air dots are grate 👍🏻👍🏻👍🏻🥳...\n",
       "9      Usman A.  Boht hi achi quality ha ma 15 din sa use kr rh...\n",
       "10    Sajjad A.  it's amazing 🤩🤩🤩 Love it 🤩💖 Nice Sound working...\n",
       "11     Zafar A.  Delivered on time\\nWorking Really fine\\nSound ...\n",
       "12        S***.             Nice product. Really appreciate work. \n",
       "13  Muhammad W.  received on time, package was in delicious pac...\n",
       "14        3***9  very amazing bahi kamal hay battery bohath hi ..."
      ]
     },
     "execution_count": 27,
     "metadata": {},
     "output_type": "execute_result"
    }
   ],
   "source": [
    "data1"
   ]
  },
  {
   "cell_type": "code",
   "execution_count": 22,
   "metadata": {},
   "outputs": [
    {
     "data": {
      "text/html": [
       "<div>\n",
       "<style scoped>\n",
       "    .dataframe tbody tr th:only-of-type {\n",
       "        vertical-align: middle;\n",
       "    }\n",
       "\n",
       "    .dataframe tbody tr th {\n",
       "        vertical-align: top;\n",
       "    }\n",
       "\n",
       "    .dataframe thead th {\n",
       "        text-align: right;\n",
       "    }\n",
       "</style>\n",
       "<table border=\"1\" class=\"dataframe\">\n",
       "  <thead>\n",
       "    <tr style=\"text-align: right;\">\n",
       "      <th></th>\n",
       "      <th>Name</th>\n",
       "      <th>Review text</th>\n",
       "    </tr>\n",
       "  </thead>\n",
       "  <tbody>\n",
       "    <tr>\n",
       "      <th>0</th>\n",
       "      <td>Nabeel B.</td>\n",
       "      <td>Cellphone is great, was delivered on said time...</td>\n",
       "    </tr>\n",
       "    <tr>\n",
       "      <th>1</th>\n",
       "      <td>Salman R.</td>\n",
       "      <td>Great response excellent delivery time and pro...</td>\n",
       "    </tr>\n",
       "    <tr>\n",
       "      <th>2</th>\n",
       "      <td>Mohammad H.</td>\n",
       "      <td>One of the best in it's category. highly recom...</td>\n",
       "    </tr>\n",
       "    <tr>\n",
       "      <th>3</th>\n",
       "      <td>M***.</td>\n",
       "      <td>Very good product daraz good service thankx</td>\n",
       "    </tr>\n",
       "    <tr>\n",
       "      <th>4</th>\n",
       "      <td>hamxa M.</td>\n",
       "      <td>Original product and good packing</td>\n",
       "    </tr>\n",
       "    <tr>\n",
       "      <th>5</th>\n",
       "      <td>Saqlain A.</td>\n",
       "      <td>Sir warranty card pr koi date ya sign nai to b...</td>\n",
       "    </tr>\n",
       "    <tr>\n",
       "      <th>6</th>\n",
       "      <td>M D.</td>\n",
       "      <td>Mobile is original but seller is too lazy in t...</td>\n",
       "    </tr>\n",
       "    <tr>\n",
       "      <th>7</th>\n",
       "      <td>N***.</td>\n",
       "      <td>Phone is perfect but now prices are increased</td>\n",
       "    </tr>\n",
       "    <tr>\n",
       "      <th>8</th>\n",
       "      <td>umair K.</td>\n",
       "      <td>best phone in this price range.</td>\n",
       "    </tr>\n",
       "    <tr>\n",
       "      <th>9</th>\n",
       "      <td>Imran K.</td>\n",
       "      <td>original product 👍</td>\n",
       "    </tr>\n",
       "  </tbody>\n",
       "</table>\n",
       "</div>"
      ],
      "text/plain": [
       "           Name                                        Review text\n",
       "0     Nabeel B.  Cellphone is great, was delivered on said time...\n",
       "1     Salman R.  Great response excellent delivery time and pro...\n",
       "2   Mohammad H.  One of the best in it's category. highly recom...\n",
       "3         M***.        Very good product daraz good service thankx\n",
       "4      hamxa M.                  Original product and good packing\n",
       "5    Saqlain A.  Sir warranty card pr koi date ya sign nai to b...\n",
       "6          M D.  Mobile is original but seller is too lazy in t...\n",
       "7         N***.      Phone is perfect but now prices are increased\n",
       "8      umair K.                   best phone in this price range. \n",
       "9      Imran K.                                 original product 👍"
      ]
     },
     "execution_count": 22,
     "metadata": {},
     "output_type": "execute_result"
    }
   ],
   "source": [
    "#Output\n",
    "df"
   ]
  },
  {
   "cell_type": "markdown",
   "metadata": {},
   "source": [
    "### Question 1 Part b  (10 marks)"
   ]
  },
  {
   "cell_type": "markdown",
   "metadata": {},
   "source": [
    "Clean the Reviews using NLTK,RE. Remove Punctuations, Smilies and other garbage using any library. \n",
    "\n",
    "Apply Vader Sentiment to find the sentiment of the review, and append it in a column named \"Sentiment\".\n",
    "\n",
    "You can get help of Vader sentiment from this; https://towardsdatascience.com/sentimental-analysis-using-vader-a3415fef7664"
   ]
  },
  {
   "cell_type": "code",
   "execution_count": 28,
   "metadata": {},
   "outputs": [
    {
     "data": {
      "text/plain": [
       "['v good packing\\n delivery on time\\nv good backup time\\nand paisay kharchnay ka dukh nai hoa jo chaha wo paya\\nbuds ka time bhi 4 hours continuesly ha\\nV Good product',\n",
       " 'ESKI EK SIDE KA SOUND NI ATA OR ARRANGE B BOHAT KAM HA RIGHT WALI BLUETOOTH MISSING KRTI HA SOUND BHI NAI HA',\n",
       " 'I loved it! Awesome Product and in affordable price...Sound Test Ok...Functions are Ok...Package is Delivered in Time And Safe.. I Recommend You This Product Who want Best wireless earbuds in Affordable Price...✌🏻',\n",
       " 'Behtreen products hy Sound bhy Acha hy jesy dekhy thy wohy hy 100% Good quality\\ntime per deliver ho gay\\nthanks Draz',\n",
       " 'Attractive hain kafi.. awaz b achi hai but awaz katti hai beech beech main jese koi video dekh rahe hn to kbhi kbhi awaz kat jati hai.',\n",
       " 'Awesome product, mind-blowing sound quality, dilevery on time, charging time fantastic 😍\\nlove this Shoping through daraz thank you ☺️☺️☺️',\n",
       " 'Excellent product. battery time, voice quality and charging base is of very high quality. strongly recommended. ',\n",
       " 'assalam u alikum \\n                               . . . . tech tok two m10 bt wireless Bluetooth meanea draz sa purchase kiea thay JIS ko use kia meara first time may experience  accha rha mujha itnay munasib rate ma bhoth acchi chies milgie bhoth shukria draz ka. 🥳🥳🥳🥳',\n",
       " 'At this price these Air dots are grate 👍🏻👍🏻👍🏻🥳🥳🥳🤯🤯🤯\\nthe battery 🔋🔋 timing is also very good\\nthe sound and the Bass is so smooth and perfect \\nRecommend 👍🏻👍🏻👍🏻',\n",
       " 'Boht hi achi quality ha ma 15 din sa use kr rha hu battery timing sound everything ok ha itni munasib price ma ap ko asi chez kahi nhi mily gi ',\n",
       " \"it's amazing 🤩🤩🤩 Love it 🤩💖 Nice Sound working twin and Awesome Look same as Shown Thank you Daraz Thank you Saller 🥰🥰😘😘😘💋💋❤️\",\n",
       " \"Delivered on time\\nWorking Really fine\\nSound Quality  💯 good\\nbut a little disappointed due to some reasons\\nCable isn't working but that's not a big issue \\nsome scratches on the back side of the box \\nlooks like it was opened for checking or something\\nbut over all good 👍 seller\",\n",
       " 'Nice product. Really appreciate work. ',\n",
       " 'received on time, package was in delicious packing, sound quality is wonderful like buffer, seller response in chat is 10/10,  battery backup is also delicious ... in short 2000 mhz for box and 50 mhz for each budd will never find  in this low price range.',\n",
       " 'very amazing bahi kamal hay battery bohath hi ziyada achi hay 👉sirf aik masla hay sound quality normal hay aur call per kafi up bolna perta hay baqi ok hay 💐']"
      ]
     },
     "execution_count": 28,
     "metadata": {},
     "output_type": "execute_result"
    }
   ],
   "source": [
    "ReviewText"
   ]
  },
  {
   "cell_type": "code",
   "execution_count": 29,
   "metadata": {},
   "outputs": [],
   "source": [
    "import string\n",
    "\n",
    "UpdateReviewText=[i.translate(str.maketrans('', '', string.punctuation)) for i in ReviewText]\n"
   ]
  },
  {
   "cell_type": "code",
   "execution_count": 30,
   "metadata": {},
   "outputs": [],
   "source": [
    "import re\n",
    "emoji_pattern = re.compile(\"[\"\n",
    "        u\"\\U0001F600-\\U0001F64F\"  # emoticons\n",
    "        u\"\\U0001F300-\\U0001F5FF\"  # symbols & pictographs\n",
    "        u\"\\U0001F680-\\U0001F6FF\"  # transport & map symbols\n",
    "        u\"\\U0001F1E0-\\U0001F1FF\"  # flags (iOS)\n",
    "        u\"\\U00002500-\\U00002BEF\"  # chinese char\n",
    "        u\"\\U00002702-\\U000027B0\"\n",
    "        u\"\\U00002702-\\U000027B0\"\n",
    "        u\"\\U000024C2-\\U0001F251\"\n",
    "        u\"\\U0001f926-\\U0001f937\"\n",
    "        u\"\\U00010000-\\U0010ffff\"\n",
    "        u\"\\u2640-\\u2642\" \n",
    "        u\"\\u2600-\\u2B55\"\n",
    "        u\"\\u200d\"\n",
    "        u\"\\u23cf\"\n",
    "        u\"\\u23e9\"\n",
    "        u\"\\u231a\"\n",
    "        u\"\\ufe0f\"  # dingbats\n",
    "        u\"\\u3030\"\n",
    "                      \"]+\", re.UNICODE)\n",
    "UpdateReviewText=[emoji_pattern.sub(r'', i) for i in UpdateReviewText]\n"
   ]
  },
  {
   "cell_type": "code",
   "execution_count": 31,
   "metadata": {},
   "outputs": [
    {
     "data": {
      "text/plain": [
       "['v good packing\\n delivery on time\\nv good backup time\\nand paisay kharchnay ka dukh nai hoa jo chaha wo paya\\nbuds ka time bhi 4 hours continuesly ha\\nV Good product',\n",
       " 'ESKI EK SIDE KA SOUND NI ATA OR ARRANGE B BOHAT KAM HA RIGHT WALI BLUETOOTH MISSING KRTI HA SOUND BHI NAI HA',\n",
       " 'I loved it Awesome Product and in affordable priceSound Test OkFunctions are OkPackage is Delivered in Time And Safe I Recommend You This Product Who want Best wireless earbuds in Affordable Price',\n",
       " 'Behtreen products hy Sound bhy Acha hy jesy dekhy thy wohy hy 100 Good quality\\ntime per deliver ho gay\\nthanks Draz',\n",
       " 'Attractive hain kafi awaz b achi hai but awaz katti hai beech beech main jese koi video dekh rahe hn to kbhi kbhi awaz kat jati hai',\n",
       " 'Awesome product mindblowing sound quality dilevery on time charging time fantastic \\nlove this Shoping through daraz thank you ',\n",
       " 'Excellent product battery time voice quality and charging base is of very high quality strongly recommended ',\n",
       " 'assalam u alikum \\n                                   tech tok two m10 bt wireless Bluetooth meanea draz sa purchase kiea thay JIS ko use kia meara first time may experience  accha rha mujha itnay munasib rate ma bhoth acchi chies milgie bhoth shukria draz ka ',\n",
       " 'At this price these Air dots are grate \\nthe battery  timing is also very good\\nthe sound and the Bass is so smooth and perfect \\nRecommend ',\n",
       " 'Boht hi achi quality ha ma 15 din sa use kr rha hu battery timing sound everything ok ha itni munasib price ma ap ko asi chez kahi nhi mily gi ',\n",
       " 'its amazing  Love it  Nice Sound working twin and Awesome Look same as Shown Thank you Daraz Thank you Saller ',\n",
       " 'Delivered on time\\nWorking Really fine\\nSound Quality   good\\nbut a little disappointed due to some reasons\\nCable isnt working but thats not a big issue \\nsome scratches on the back side of the box \\nlooks like it was opened for checking or something\\nbut over all good  seller',\n",
       " 'Nice product Really appreciate work ',\n",
       " 'received on time package was in delicious packing sound quality is wonderful like buffer seller response in chat is 1010  battery backup is also delicious  in short 2000 mhz for box and 50 mhz for each budd will never find  in this low price range',\n",
       " 'very amazing bahi kamal hay battery bohath hi ziyada achi hay sirf aik masla hay sound quality normal hay aur call per kafi up bolna perta hay baqi ok hay ']"
      ]
     },
     "execution_count": 31,
     "metadata": {},
     "output_type": "execute_result"
    }
   ],
   "source": [
    "UpdateReviewText"
   ]
  },
  {
   "cell_type": "code",
   "execution_count": 32,
   "metadata": {},
   "outputs": [],
   "source": [
    "import nltk\n",
    "from nltk.sentiment.vader import SentimentIntensityAnalyzer \n",
    "sid=SentimentIntensityAnalyzer()"
   ]
  },
  {
   "cell_type": "code",
   "execution_count": 33,
   "metadata": {},
   "outputs": [
    {
     "name": "stdout",
     "output_type": "stream",
     "text": [
      "{'neg': 0.0, 'neu': 0.684, 'pos': 0.316, 'compound': 0.8779}\n",
      "{'neg': 0.08, 'neu': 0.657, 'pos': 0.263, 'compound': 0.6124}\n",
      "{'neg': 0.0, 'neu': 0.559, 'pos': 0.441, 'compound': 0.9578}\n",
      "{'neg': 0.0, 'neu': 0.775, 'pos': 0.225, 'compound': 0.7003}\n",
      "{'neg': 0.0, 'neu': 0.928, 'pos': 0.072, 'compound': 0.2382}\n",
      "{'neg': 0.0, 'neu': 0.493, 'pos': 0.507, 'compound': 0.9371}\n",
      "{'neg': 0.0, 'neu': 0.623, 'pos': 0.377, 'compound': 0.7823}\n",
      "{'neg': 0.1, 'neu': 0.9, 'pos': 0.0, 'compound': -0.6369}\n",
      "{'neg': 0.0, 'neu': 0.704, 'pos': 0.296, 'compound': 0.8643}\n",
      "{'neg': 0.0, 'neu': 0.8, 'pos': 0.2, 'compound': 0.7184}\n",
      "{'neg': 0.0, 'neu': 0.413, 'pos': 0.587, 'compound': 0.9633}\n",
      "{'neg': 0.066, 'neu': 0.746, 'pos': 0.188, 'compound': 0.7083}\n",
      "{'neg': 0.0, 'neu': 0.341, 'pos': 0.659, 'compound': 0.6997}\n",
      "{'neg': 0.042, 'neu': 0.715, 'pos': 0.243, 'compound': 0.9047}\n",
      "{'neg': 0.0, 'neu': 0.816, 'pos': 0.184, 'compound': 0.7425}\n"
     ]
    }
   ],
   "source": [
    "sentimentsList=[]\n",
    "for i in UpdateReviewText:\n",
    "    sentiments=sid.polarity_scores(i)\n",
    "    print(sid.polarity_scores(i))\n",
    "    if sentiments['compound'] >= 0.05   :\n",
    "        sentimentsList.append(\"Positive\")\n",
    " \n",
    "    elif sentiments['compound'] <= - 0.05  :\n",
    "        sentimentsList.append(\"Negative\")\n",
    " \n",
    "    else  :\n",
    "        sentimentsList.append(\"Neutral\")"
   ]
  },
  {
   "cell_type": "code",
   "execution_count": 34,
   "metadata": {},
   "outputs": [
    {
     "data": {
      "text/plain": [
       "['Positive',\n",
       " 'Positive',\n",
       " 'Positive',\n",
       " 'Positive',\n",
       " 'Positive',\n",
       " 'Positive',\n",
       " 'Positive',\n",
       " 'Negative',\n",
       " 'Positive',\n",
       " 'Positive',\n",
       " 'Positive',\n",
       " 'Positive',\n",
       " 'Positive',\n",
       " 'Positive',\n",
       " 'Positive']"
      ]
     },
     "execution_count": 34,
     "metadata": {},
     "output_type": "execute_result"
    }
   ],
   "source": [
    "sentimentsList"
   ]
  },
  {
   "cell_type": "code",
   "execution_count": 35,
   "metadata": {},
   "outputs": [],
   "source": [
    "data2=pd.DataFrame({\"Name\":Name,\n",
    "                   \"Review text\":UpdateReviewText,\n",
    "                   \"Sentiments\":sentimentsList})"
   ]
  },
  {
   "cell_type": "code",
   "execution_count": 36,
   "metadata": {},
   "outputs": [
    {
     "data": {
      "text/html": [
       "<div>\n",
       "<style scoped>\n",
       "    .dataframe tbody tr th:only-of-type {\n",
       "        vertical-align: middle;\n",
       "    }\n",
       "\n",
       "    .dataframe tbody tr th {\n",
       "        vertical-align: top;\n",
       "    }\n",
       "\n",
       "    .dataframe thead th {\n",
       "        text-align: right;\n",
       "    }\n",
       "</style>\n",
       "<table border=\"1\" class=\"dataframe\">\n",
       "  <thead>\n",
       "    <tr style=\"text-align: right;\">\n",
       "      <th></th>\n",
       "      <th>Name</th>\n",
       "      <th>Review text</th>\n",
       "      <th>Sentiments</th>\n",
       "    </tr>\n",
       "  </thead>\n",
       "  <tbody>\n",
       "    <tr>\n",
       "      <th>0</th>\n",
       "      <td>Umair A.</td>\n",
       "      <td>v good packing\\n delivery on time\\nv good back...</td>\n",
       "      <td>Positive</td>\n",
       "    </tr>\n",
       "    <tr>\n",
       "      <th>1</th>\n",
       "      <td>3***8</td>\n",
       "      <td>ESKI EK SIDE KA SOUND NI ATA OR ARRANGE B BOHA...</td>\n",
       "      <td>Positive</td>\n",
       "    </tr>\n",
       "    <tr>\n",
       "      <th>2</th>\n",
       "      <td>M***.</td>\n",
       "      <td>I loved it Awesome Product and in affordable p...</td>\n",
       "      <td>Positive</td>\n",
       "    </tr>\n",
       "    <tr>\n",
       "      <th>3</th>\n",
       "      <td>****7</td>\n",
       "      <td>Behtreen products hy Sound bhy Acha hy jesy de...</td>\n",
       "      <td>Positive</td>\n",
       "    </tr>\n",
       "    <tr>\n",
       "      <th>4</th>\n",
       "      <td>Imran J.</td>\n",
       "      <td>Attractive hain kafi awaz b achi hai but awaz ...</td>\n",
       "      <td>Positive</td>\n",
       "    </tr>\n",
       "    <tr>\n",
       "      <th>5</th>\n",
       "      <td>Abdul R.</td>\n",
       "      <td>Awesome product mindblowing sound quality dile...</td>\n",
       "      <td>Positive</td>\n",
       "    </tr>\n",
       "    <tr>\n",
       "      <th>6</th>\n",
       "      <td>Syed J.</td>\n",
       "      <td>Excellent product battery time voice quality a...</td>\n",
       "      <td>Positive</td>\n",
       "    </tr>\n",
       "    <tr>\n",
       "      <th>7</th>\n",
       "      <td>0***9</td>\n",
       "      <td>assalam u alikum \\n                           ...</td>\n",
       "      <td>Negative</td>\n",
       "    </tr>\n",
       "    <tr>\n",
       "      <th>8</th>\n",
       "      <td>A***.</td>\n",
       "      <td>At this price these Air dots are grate \\nthe b...</td>\n",
       "      <td>Positive</td>\n",
       "    </tr>\n",
       "    <tr>\n",
       "      <th>9</th>\n",
       "      <td>Usman A.</td>\n",
       "      <td>Boht hi achi quality ha ma 15 din sa use kr rh...</td>\n",
       "      <td>Positive</td>\n",
       "    </tr>\n",
       "    <tr>\n",
       "      <th>10</th>\n",
       "      <td>Sajjad A.</td>\n",
       "      <td>its amazing  Love it  Nice Sound working twin ...</td>\n",
       "      <td>Positive</td>\n",
       "    </tr>\n",
       "    <tr>\n",
       "      <th>11</th>\n",
       "      <td>Zafar A.</td>\n",
       "      <td>Delivered on time\\nWorking Really fine\\nSound ...</td>\n",
       "      <td>Positive</td>\n",
       "    </tr>\n",
       "    <tr>\n",
       "      <th>12</th>\n",
       "      <td>S***.</td>\n",
       "      <td>Nice product Really appreciate work</td>\n",
       "      <td>Positive</td>\n",
       "    </tr>\n",
       "    <tr>\n",
       "      <th>13</th>\n",
       "      <td>Muhammad W.</td>\n",
       "      <td>received on time package was in delicious pack...</td>\n",
       "      <td>Positive</td>\n",
       "    </tr>\n",
       "    <tr>\n",
       "      <th>14</th>\n",
       "      <td>3***9</td>\n",
       "      <td>very amazing bahi kamal hay battery bohath hi ...</td>\n",
       "      <td>Positive</td>\n",
       "    </tr>\n",
       "  </tbody>\n",
       "</table>\n",
       "</div>"
      ],
      "text/plain": [
       "           Name                                        Review text Sentiments\n",
       "0      Umair A.  v good packing\\n delivery on time\\nv good back...   Positive\n",
       "1         3***8  ESKI EK SIDE KA SOUND NI ATA OR ARRANGE B BOHA...   Positive\n",
       "2         M***.  I loved it Awesome Product and in affordable p...   Positive\n",
       "3         ****7  Behtreen products hy Sound bhy Acha hy jesy de...   Positive\n",
       "4      Imran J.  Attractive hain kafi awaz b achi hai but awaz ...   Positive\n",
       "5      Abdul R.  Awesome product mindblowing sound quality dile...   Positive\n",
       "6       Syed J.  Excellent product battery time voice quality a...   Positive\n",
       "7         0***9  assalam u alikum \\n                           ...   Negative\n",
       "8         A***.  At this price these Air dots are grate \\nthe b...   Positive\n",
       "9      Usman A.  Boht hi achi quality ha ma 15 din sa use kr rh...   Positive\n",
       "10    Sajjad A.  its amazing  Love it  Nice Sound working twin ...   Positive\n",
       "11     Zafar A.  Delivered on time\\nWorking Really fine\\nSound ...   Positive\n",
       "12        S***.               Nice product Really appreciate work    Positive\n",
       "13  Muhammad W.  received on time package was in delicious pack...   Positive\n",
       "14        3***9  very amazing bahi kamal hay battery bohath hi ...   Positive"
      ]
     },
     "execution_count": 36,
     "metadata": {},
     "output_type": "execute_result"
    }
   ],
   "source": [
    "data2"
   ]
  },
  {
   "cell_type": "markdown",
   "metadata": {},
   "source": [
    "# Question 2   (20 marks)"
   ]
  },
  {
   "cell_type": "markdown",
   "metadata": {},
   "source": [
    "Scrape 80 items for a keyword search e.g., 'mobile covers'<br/>Note: Must use \"click()\" function of webElement, URL changing for pages is not allowed. The code must be generic and should work for every keyword, with proper checks in place. Bonus for also scraping country and Daraz Mall availability."
   ]
  },
  {
   "cell_type": "code",
   "execution_count": 37,
   "metadata": {},
   "outputs": [],
   "source": [
    "query = 'mobile covers'\n",
    "url2 = 'form complete url from query given above by appending to actual url'"
   ]
  },
  {
   "cell_type": "code",
   "execution_count": 38,
   "metadata": {},
   "outputs": [],
   "source": [
    "front = \"https://www.daraz.pk/catalog/?q=\"\n",
    "end = \"&_keyori=ss\"\n",
    "query.replace(' ','+')\n",
    "url2=front+query.replace(' ','+')+end"
   ]
  },
  {
   "cell_type": "code",
   "execution_count": 39,
   "metadata": {},
   "outputs": [
    {
     "data": {
      "text/plain": [
       "'https://www.daraz.pk/catalog/?q=mobile+covers&_keyori=ss'"
      ]
     },
     "execution_count": 39,
     "metadata": {},
     "output_type": "execute_result"
    }
   ],
   "source": [
    "url2"
   ]
  },
  {
   "cell_type": "code",
   "execution_count": 45,
   "metadata": {},
   "outputs": [],
   "source": [
    "Driver.get(url2)\n",
    "time.sleep(20)"
   ]
  },
  {
   "cell_type": "code",
   "execution_count": 41,
   "metadata": {},
   "outputs": [],
   "source": [
    "AllProducts=Driver.find_elements(By.CLASS_NAME,'inner--SODwy')"
   ]
  },
  {
   "cell_type": "code",
   "execution_count": 42,
   "metadata": {},
   "outputs": [
    {
     "data": {
      "text/plain": [
       "40"
      ]
     },
     "execution_count": 42,
     "metadata": {},
     "output_type": "execute_result"
    }
   ],
   "source": [
    "len(AllProducts)"
   ]
  },
  {
   "cell_type": "code",
   "execution_count": null,
   "metadata": {},
   "outputs": [],
   "source": []
  },
  {
   "cell_type": "code",
   "execution_count": 43,
   "metadata": {},
   "outputs": [],
   "source": [
    "ProductNames = []\n",
    "ProductPrices = []\n",
    "Productcountry = []\n",
    "p_ratings = []\n",
    "ProductReviews = []\n",
    "DarazMall=[]\n",
    "check=Driver.find_element(By.XPATH,'//*[@id=\"root\"]/div/div[2]/div/div/div[1]/div[3]/div/ul/li[4]/a')\n",
    "if check.text=='3':\n",
    "    for j in range(0,2):\n",
    "        count=1\n",
    "        if j>0:\n",
    "            Driver.find_element(By.XPATH, '//*[@id=\"root\"]/div/div[2]/div/div/div[1]/div[3]/div/ul/li[9]/a').click()\n",
    "            time.sleep(10)\n",
    "        AllProducts=Driver.find_elements(By.CLASS_NAME,'inner--SODwy')\n",
    "        for i in AllProducts:\n",
    "            Pname=i.find_element(By.CLASS_NAME,'title--wFj93')\n",
    "            Pprice=i.find_element(By.CLASS_NAME,'price--NVB62')\n",
    "            Pcountry=i.find_element(By.CLASS_NAME,'rateAndLoc--XWchq')\n",
    "            #prating=i.find_element(By.CLASS_NAME,'')\n",
    "            try:\n",
    "                Pdaraz=i.find_element(By.XPATH,'//*[@id=\"root\"]/div/div[2]/div/div/div[1]/div[2]/div['+str(count)+']/div/div/div[2]/div[1]/i')\n",
    "                DarazMall.append('YES')\n",
    "            except:\n",
    "                DarazMall.append('NO')\n",
    "            count=count+1\n",
    "            Previews=i.find_element(By.CLASS_NAME,'rateAndLoc--XWchq')\n",
    "            ProductNames.append(Pname.text)\n",
    "            ProductPrices.append(Pprice.text.replace('Rs. ',''))\n",
    "            try:\n",
    "                Productcountry.append(Pcountry.text.split('\\n')[1])\n",
    "            except:\n",
    "                Productcountry.append('-')\n",
    "            #p_ratings.append(Previews)\n",
    "            ProductReviews.append(Previews.text.split('\\n')[0].replace('(','').replace(')',''))"
   ]
  },
  {
   "cell_type": "code",
   "execution_count": 58,
   "metadata": {
    "scrolled": true
   },
   "outputs": [],
   "source": [
    "Productcountry=[i.replace('Free Shipping','pakistan') for i in Productcountry]"
   ]
  },
  {
   "cell_type": "code",
   "execution_count": 59,
   "metadata": {
    "scrolled": true
   },
   "outputs": [
    {
     "data": {
      "text/plain": [
       "['pakistan',\n",
       " 'pakistan',\n",
       " 'pakistan',\n",
       " 'pakistan',\n",
       " 'pakistan',\n",
       " 'pakistan',\n",
       " 'Pakistan',\n",
       " 'China',\n",
       " 'Pakistan',\n",
       " 'Pakistan',\n",
       " 'Pakistan',\n",
       " 'Pakistan',\n",
       " 'Pakistan',\n",
       " 'Pakistan',\n",
       " 'pakistan',\n",
       " 'Pakistan',\n",
       " 'pakistan',\n",
       " 'Pakistan',\n",
       " 'Pakistan',\n",
       " 'Pakistan',\n",
       " 'Pakistan',\n",
       " 'pakistan',\n",
       " 'Pakistan',\n",
       " 'Pakistan',\n",
       " 'pakistan',\n",
       " '-',\n",
       " 'pakistan',\n",
       " 'pakistan',\n",
       " 'pakistan',\n",
       " 'Pakistan',\n",
       " 'Pakistan',\n",
       " 'Pakistan',\n",
       " 'Pakistan',\n",
       " 'pakistan',\n",
       " 'Pakistan',\n",
       " 'Pakistan',\n",
       " 'pakistan',\n",
       " 'Pakistan',\n",
       " 'China',\n",
       " 'China',\n",
       " 'pakistan',\n",
       " 'pakistan',\n",
       " 'pakistan',\n",
       " 'pakistan',\n",
       " 'pakistan',\n",
       " 'Pakistan',\n",
       " 'pakistan',\n",
       " 'pakistan',\n",
       " 'pakistan',\n",
       " 'Pakistan',\n",
       " 'Pakistan',\n",
       " 'pakistan',\n",
       " 'pakistan',\n",
       " 'Pakistan',\n",
       " 'pakistan',\n",
       " 'Pakistan',\n",
       " 'Pakistan',\n",
       " 'pakistan',\n",
       " 'pakistan',\n",
       " 'pakistan',\n",
       " 'pakistan',\n",
       " 'pakistan',\n",
       " 'pakistan',\n",
       " 'pakistan',\n",
       " 'Pakistan',\n",
       " 'Pakistan',\n",
       " 'pakistan',\n",
       " 'China',\n",
       " 'pakistan',\n",
       " 'pakistan',\n",
       " 'pakistan',\n",
       " 'pakistan',\n",
       " 'pakistan',\n",
       " 'pakistan',\n",
       " 'pakistan',\n",
       " 'pakistan',\n",
       " 'pakistan',\n",
       " 'pakistan',\n",
       " 'pakistan',\n",
       " 'Pakistan']"
      ]
     },
     "execution_count": 59,
     "metadata": {},
     "output_type": "execute_result"
    }
   ],
   "source": [
    "Productcountry"
   ]
  },
  {
   "cell_type": "code",
   "execution_count": 178,
   "metadata": {
    "scrolled": true
   },
   "outputs": [
    {
     "data": {
      "text/plain": [
       "['YES',\n",
       " 'YES',\n",
       " 'YES',\n",
       " 'YES',\n",
       " 'NO',\n",
       " 'NO',\n",
       " 'NO',\n",
       " 'NO',\n",
       " 'NO',\n",
       " 'YES',\n",
       " 'NO',\n",
       " 'YES',\n",
       " 'YES',\n",
       " 'YES',\n",
       " 'NO',\n",
       " 'YES',\n",
       " 'NO',\n",
       " 'YES',\n",
       " 'YES',\n",
       " 'YES',\n",
       " 'YES',\n",
       " 'NO',\n",
       " 'NO',\n",
       " 'YES',\n",
       " 'YES',\n",
       " 'NO',\n",
       " 'NO',\n",
       " 'NO',\n",
       " 'NO',\n",
       " 'NO',\n",
       " 'NO',\n",
       " 'NO',\n",
       " 'YES',\n",
       " 'NO',\n",
       " 'YES',\n",
       " 'NO',\n",
       " 'NO',\n",
       " 'NO',\n",
       " 'NO',\n",
       " 'YES',\n",
       " 'NO',\n",
       " 'YES',\n",
       " 'YES',\n",
       " 'YES',\n",
       " 'NO',\n",
       " 'YES',\n",
       " 'NO',\n",
       " 'NO',\n",
       " 'NO',\n",
       " 'YES',\n",
       " 'NO',\n",
       " 'NO',\n",
       " 'YES',\n",
       " 'NO',\n",
       " 'NO',\n",
       " 'NO',\n",
       " 'YES',\n",
       " 'YES',\n",
       " 'YES',\n",
       " 'NO',\n",
       " 'YES',\n",
       " 'NO',\n",
       " 'NO',\n",
       " 'YES',\n",
       " 'YES',\n",
       " 'NO',\n",
       " 'NO',\n",
       " 'YES',\n",
       " 'YES',\n",
       " 'NO',\n",
       " 'NO',\n",
       " 'YES',\n",
       " 'YES',\n",
       " 'NO',\n",
       " 'NO',\n",
       " 'YES',\n",
       " 'NO',\n",
       " 'YES',\n",
       " 'NO',\n",
       " 'YES']"
      ]
     },
     "execution_count": 178,
     "metadata": {},
     "output_type": "execute_result"
    }
   ],
   "source": [
    "DarazMall"
   ]
  },
  {
   "cell_type": "code",
   "execution_count": 179,
   "metadata": {},
   "outputs": [],
   "source": [
    "data2=pd.DataFrame({\"Name\":ProductNames,\n",
    "                   \"Price\":ProductPrices,\n",
    "                   \"Reviews\":ProductReviews,\n",
    "                   \"Country\":Productcountry,\n",
    "                   \"Daraz Mall availability\":DarazMall})"
   ]
  },
  {
   "cell_type": "code",
   "execution_count": 180,
   "metadata": {
    "scrolled": false
   },
   "outputs": [
    {
     "data": {
      "text/html": [
       "<div>\n",
       "<style scoped>\n",
       "    .dataframe tbody tr th:only-of-type {\n",
       "        vertical-align: middle;\n",
       "    }\n",
       "\n",
       "    .dataframe tbody tr th {\n",
       "        vertical-align: top;\n",
       "    }\n",
       "\n",
       "    .dataframe thead th {\n",
       "        text-align: right;\n",
       "    }\n",
       "</style>\n",
       "<table border=\"1\" class=\"dataframe\">\n",
       "  <thead>\n",
       "    <tr style=\"text-align: right;\">\n",
       "      <th></th>\n",
       "      <th>Name</th>\n",
       "      <th>Price</th>\n",
       "      <th>Reviews</th>\n",
       "      <th>Country</th>\n",
       "      <th>Daraz Mall availability</th>\n",
       "    </tr>\n",
       "  </thead>\n",
       "  <tbody>\n",
       "    <tr>\n",
       "      <th>0</th>\n",
       "      <td>Hontinga for Samsung A32 4G Case Luxury 6D Pla...</td>\n",
       "      <td>442</td>\n",
       "      <td>257</td>\n",
       "      <td>Pakistan</td>\n",
       "      <td>YES</td>\n",
       "    </tr>\n",
       "    <tr>\n",
       "      <th>1</th>\n",
       "      <td>Hontinga for Realme 5 5I 5S 6I Case Luxury 6D ...</td>\n",
       "      <td>524</td>\n",
       "      <td>95</td>\n",
       "      <td>Pakistan</td>\n",
       "      <td>YES</td>\n",
       "    </tr>\n",
       "    <tr>\n",
       "      <th>2</th>\n",
       "      <td>Hontinga for OPPO F11 Pro Back Cover Luxury 6D...</td>\n",
       "      <td>524</td>\n",
       "      <td>17</td>\n",
       "      <td>Pakistan</td>\n",
       "      <td>YES</td>\n",
       "    </tr>\n",
       "    <tr>\n",
       "      <th>3</th>\n",
       "      <td>Hontinga for Samsung Galaxy A03 Back Cover Lux...</td>\n",
       "      <td>445</td>\n",
       "      <td>40</td>\n",
       "      <td>Pakistan</td>\n",
       "      <td>YES</td>\n",
       "    </tr>\n",
       "    <tr>\n",
       "      <th>4</th>\n",
       "      <td>Blue Sky Store For Samsung Galaxy A13 Vintage ...</td>\n",
       "      <td>1,000</td>\n",
       "      <td>16</td>\n",
       "      <td>China</td>\n",
       "      <td>NO</td>\n",
       "    </tr>\n",
       "    <tr>\n",
       "      <th>...</th>\n",
       "      <td>...</td>\n",
       "      <td>...</td>\n",
       "      <td>...</td>\n",
       "      <td>...</td>\n",
       "      <td>...</td>\n",
       "    </tr>\n",
       "    <tr>\n",
       "      <th>75</th>\n",
       "      <td>Hontinga for OPPO F11 Pro Back Cover Luxury 6D...</td>\n",
       "      <td>445</td>\n",
       "      <td>32</td>\n",
       "      <td>Pakistan</td>\n",
       "      <td>YES</td>\n",
       "    </tr>\n",
       "    <tr>\n",
       "      <th>76</th>\n",
       "      <td>vivoo X80 , Full Back Protection Sheet with Fo...</td>\n",
       "      <td>92</td>\n",
       "      <td>6</td>\n",
       "      <td>Pakistan</td>\n",
       "      <td>NO</td>\n",
       "    </tr>\n",
       "    <tr>\n",
       "      <th>77</th>\n",
       "      <td>Jizetin for Samsung Galaxy A72 / A72 5G Back C...</td>\n",
       "      <td>511</td>\n",
       "      <td>9</td>\n",
       "      <td>China</td>\n",
       "      <td>YES</td>\n",
       "    </tr>\n",
       "    <tr>\n",
       "      <th>78</th>\n",
       "      <td>Samsung Galaxy A31 Matte Black Flexible TPU Ca...</td>\n",
       "      <td>159</td>\n",
       "      <td>25</td>\n",
       "      <td>Pakistan</td>\n",
       "      <td>NO</td>\n",
       "    </tr>\n",
       "    <tr>\n",
       "      <th>79</th>\n",
       "      <td>Hontinga for Huawei Nova 7I Case Luxury 6D Pla...</td>\n",
       "      <td>524</td>\n",
       "      <td>14</td>\n",
       "      <td>Pakistan</td>\n",
       "      <td>YES</td>\n",
       "    </tr>\n",
       "  </tbody>\n",
       "</table>\n",
       "<p>80 rows × 5 columns</p>\n",
       "</div>"
      ],
      "text/plain": [
       "                                                 Name  Price Reviews  \\\n",
       "0   Hontinga for Samsung A32 4G Case Luxury 6D Pla...    442     257   \n",
       "1   Hontinga for Realme 5 5I 5S 6I Case Luxury 6D ...    524      95   \n",
       "2   Hontinga for OPPO F11 Pro Back Cover Luxury 6D...    524      17   \n",
       "3   Hontinga for Samsung Galaxy A03 Back Cover Lux...    445      40   \n",
       "4   Blue Sky Store For Samsung Galaxy A13 Vintage ...  1,000      16   \n",
       "..                                                ...    ...     ...   \n",
       "75  Hontinga for OPPO F11 Pro Back Cover Luxury 6D...    445      32   \n",
       "76  vivoo X80 , Full Back Protection Sheet with Fo...     92       6   \n",
       "77  Jizetin for Samsung Galaxy A72 / A72 5G Back C...    511       9   \n",
       "78  Samsung Galaxy A31 Matte Black Flexible TPU Ca...    159      25   \n",
       "79  Hontinga for Huawei Nova 7I Case Luxury 6D Pla...    524      14   \n",
       "\n",
       "     Country Daraz Mall availability  \n",
       "0   Pakistan                     YES  \n",
       "1   Pakistan                     YES  \n",
       "2   Pakistan                     YES  \n",
       "3   Pakistan                     YES  \n",
       "4      China                      NO  \n",
       "..       ...                     ...  \n",
       "75  Pakistan                     YES  \n",
       "76  Pakistan                      NO  \n",
       "77     China                     YES  \n",
       "78  Pakistan                      NO  \n",
       "79  Pakistan                     YES  \n",
       "\n",
       "[80 rows x 5 columns]"
      ]
     },
     "execution_count": 180,
     "metadata": {},
     "output_type": "execute_result"
    }
   ],
   "source": [
    "data2"
   ]
  },
  {
   "cell_type": "code",
   "execution_count": 49,
   "metadata": {},
   "outputs": [],
   "source": [
    "AllProducts=Driver.find_elements(By.CLASS_NAME,'gridItem--Yd0sa')"
   ]
  },
  {
   "cell_type": "code",
   "execution_count": 50,
   "metadata": {},
   "outputs": [],
   "source": [
    "\n",
    "Pcountry = []\n",
    "ProductStar = []\n",
    "\n",
    "for j in range(0,2):\n",
    "    if j>0:\n",
    "        Driver.find_element(By.XPATH, '//*[@id=\"root\"]/div/div[2]/div/div/div[1]/div[3]/div/ul/li[9]/a').click()\n",
    "        time.sleep(10)\n",
    "        \n",
    "    for i in range(len(AllProducts)):\n",
    "        AllProducts=Driver.find_elements(By.CLASS_NAME,'gridItem--Yd0sa')\n",
    "        time.sleep(2)\n",
    "        AllProducts[i].click()\n",
    "        time.sleep(4)\n",
    "        try:\n",
    "            AllProducts[i].find_element(By.XPATH,'/html/body/div[6]/div/div[2]/div/span/i').click()\n",
    "        except:\n",
    "            pass\n",
    "        time.sleep(2)\n",
    "        P_country=Driver.find_element(By.CLASS_NAME,'delivery-option-item__title')\n",
    "        Pcountry.append(P_country.text)\n",
    "        Driver.execute_script(\"window.scrollTo(0,1550)\")\n",
    "        time.sleep(5)\n",
    "        try:\n",
    "            x=Driver.find_element(By.XPATH,'//*[@id=\"module_product_review\"]/div/div/div[1]/div[2]/div/div/div[1]/div[1]/span[1]')\n",
    "            ProductStar.append(x.text)\n",
    "        except:\n",
    "            x=Driver.find_element(By.XPATH,'//*[@id=\"module_product_review\"]/div/div/div[1]/div[2]/div/div/div[1]/div[1]/span[1]')\n",
    "            ProductStar.append(x.text)\n",
    "        time.sleep(3)\n",
    "        Driver.back()\n",
    "        time.sleep(2)"
   ]
  },
  {
   "cell_type": "code",
   "execution_count": 51,
   "metadata": {},
   "outputs": [
    {
     "name": "stdout",
     "output_type": "stream",
     "text": [
      "['Ships from Overseas', 'Ships from Overseas', 'Standard Delivery', 'Standard Delivery', 'Standard Delivery', 'Ships from Overseas', 'Ships from Overseas', 'Standard Delivery', 'Standard Delivery', 'Standard Delivery', 'Standard Delivery', 'Ships from Overseas', 'Standard Delivery', 'Ships from Overseas', 'Standard Delivery', 'Standard Delivery', 'Ships from Overseas', 'Ships from Overseas', 'Standard Delivery', 'Ships from Overseas', 'Ships from Overseas', 'Ships from Overseas', 'Standard Delivery', 'Ships from Overseas', 'Standard Delivery', 'Standard Delivery', 'Standard Delivery', 'Ships from Overseas', 'Standard Delivery', 'Standard Delivery', 'Ships from Overseas', 'Ships from Overseas', 'Ships from Overseas', 'Standard Delivery', 'Ships from Overseas', 'Standard Delivery', 'Standard Delivery', 'Standard Delivery', 'Ships from Overseas', 'Standard Delivery', 'Standard Delivery', 'Standard Delivery', 'Standard Delivery', 'Ships from Overseas', 'Standard Delivery', 'Standard Delivery', 'Standard Delivery', 'Ships from Overseas', 'Ships from Overseas', 'Ships from Overseas', 'Ships from Overseas', 'Ships from Overseas', 'Standard Delivery', 'Ships from Overseas', 'Ships from Overseas', 'Ships from Overseas', 'Standard Delivery', 'Standard Delivery', 'Ships from Overseas', 'Ships from Overseas', 'Fulfilled by Daraz', 'Fulfilled by Daraz', 'Ships from Overseas', 'Ships from Overseas', 'Ships from Overseas', 'Ships from Overseas', 'Fulfilled by Daraz', 'Standard Delivery', 'Ships from Overseas', 'Ships from Overseas', 'Ships from Overseas', 'Ships from Overseas', 'Fulfilled by Daraz', 'Standard Delivery', 'Standard Delivery', 'Standard Delivery', 'Ships from Overseas', 'Ships from Overseas', 'Ships from Overseas', 'Ships from Overseas']\n"
     ]
    }
   ],
   "source": [
    "print(Pcountry)"
   ]
  },
  {
   "cell_type": "code",
   "execution_count": 52,
   "metadata": {},
   "outputs": [
    {
     "name": "stdout",
     "output_type": "stream",
     "text": [
      "['4.7', '4.8', '4.8', '4.4', '4.4', '4.9', '5.0', '4.7', '4.7', '4.8', '4.6', '4.8', '4.7', '4.7', '4.7', '4.6', '4.9', '4.9', '4.6', '4.9', '5.0', '4.9', '4.7', '4.6', '4.8', '4.1', '4.6', '5.0', '4.9', '4.7', '5.0', '5.0', '5.0', '4.8', '4.9', '4.7', '4.2', '4.6', '4.9', '4.7', '4.6', '4.4', '4.4', '4.8', '4.7', '4.7', '4.9', '4.8', '4.9', '4.9', '4.7', '4.9', '4.7', '5.0', '5.0', '4.9', '5.0', '4.9', '4.7', '4.8', '4.9', '4.9', '5.0', '5.0', '5.0', '4.7', '4.8', '4.6', '5.0', '5.0', '3.7', '4.7', '4.9', '4.7', '4.5', '4.5', '4.8', '5.0', '5.0', '4.7']\n"
     ]
    }
   ],
   "source": [
    "print(ProductStar)"
   ]
  },
  {
   "cell_type": "code",
   "execution_count": 53,
   "metadata": {},
   "outputs": [
    {
     "data": {
      "text/plain": [
       "80"
      ]
     },
     "execution_count": 53,
     "metadata": {},
     "output_type": "execute_result"
    }
   ],
   "source": [
    "len(ProductStar)"
   ]
  },
  {
   "cell_type": "code",
   "execution_count": 54,
   "metadata": {},
   "outputs": [
    {
     "data": {
      "text/plain": [
       "80"
      ]
     },
     "execution_count": 54,
     "metadata": {},
     "output_type": "execute_result"
    }
   ],
   "source": [
    "len(Pcountry)"
   ]
  },
  {
   "cell_type": "code",
   "execution_count": 74,
   "metadata": {},
   "outputs": [],
   "source": [
    "Pcountry=[i.replace('Ships from Overseas','Overseas/China').replace('Standard Delivery','Pakistan') for i in Pcountry]"
   ]
  },
  {
   "cell_type": "code",
   "execution_count": 75,
   "metadata": {},
   "outputs": [
    {
     "name": "stdout",
     "output_type": "stream",
     "text": [
      "['Overseas/China', 'Overseas/China', 'Pakistan', 'Pakistan', 'Pakistan', 'Overseas/China', 'Overseas/China', 'Pakistan', 'Pakistan', 'Pakistan', 'Pakistan', 'Overseas/China', 'Pakistan', 'Overseas/China', 'Pakistan', 'Pakistan', 'Overseas/China', 'Overseas/China', 'Pakistan', 'Overseas/China', 'Overseas/China', 'Overseas/China', 'Pakistan', 'Overseas/China', 'Pakistan', 'Pakistan', 'Pakistan', 'Overseas/China', 'Pakistan', 'Pakistan', 'Overseas/China', 'Overseas/China', 'Overseas/China', 'Pakistan', 'Overseas/China', 'Pakistan', 'Pakistan', 'Pakistan', 'Overseas/China', 'Pakistan', 'Pakistan', 'Pakistan', 'Pakistan', 'Overseas/China', 'Pakistan', 'Pakistan', 'Pakistan', 'Overseas/China', 'Overseas/China', 'Overseas/China', 'Overseas/China', 'Overseas/China', 'Pakistan', 'Overseas/China', 'Overseas/China', 'Overseas/China', 'Pakistan', 'Pakistan', 'Overseas/China', 'Overseas/China', 'Fulfilled by Daraz', 'Fulfilled by Daraz', 'Overseas/China', 'Overseas/China', 'Overseas/China', 'Overseas/China', 'Fulfilled by Daraz', 'Pakistan', 'Overseas/China', 'Overseas/China', 'Overseas/China', 'Overseas/China', 'Fulfilled by Daraz', 'Pakistan', 'Pakistan', 'Pakistan', 'Overseas/China', 'Overseas/China', 'Overseas/China', 'Overseas/China']\n"
     ]
    }
   ],
   "source": [
    "print(Pcountry)"
   ]
  },
  {
   "cell_type": "code",
   "execution_count": 86,
   "metadata": {
    "scrolled": true
   },
   "outputs": [
    {
     "data": {
      "text/plain": [
       "['147',\n",
       " '120',\n",
       " '68',\n",
       " '40',\n",
       " '17',\n",
       " '65',\n",
       " '327',\n",
       " '17',\n",
       " '42',\n",
       " '47',\n",
       " '79',\n",
       " '101',\n",
       " '206',\n",
       " '50',\n",
       " '13',\n",
       " '50',\n",
       " '31',\n",
       " '24',\n",
       " '149',\n",
       " '28',\n",
       " '24',\n",
       " '2',\n",
       " '40',\n",
       " '39',\n",
       " '4',\n",
       " 'Free Shipping',\n",
       " '71',\n",
       " '22',\n",
       " '6',\n",
       " '4',\n",
       " '13',\n",
       " '194',\n",
       " '10',\n",
       " '5',\n",
       " '6',\n",
       " '298',\n",
       " '48',\n",
       " '22',\n",
       " '56',\n",
       " '23',\n",
       " '8',\n",
       " '115',\n",
       " '8',\n",
       " '15',\n",
       " '24',\n",
       " '39',\n",
       " '32',\n",
       " '102',\n",
       " '1',\n",
       " '98',\n",
       " '10',\n",
       " '14',\n",
       " '34',\n",
       " '9',\n",
       " '25',\n",
       " '44',\n",
       " '27',\n",
       " '1',\n",
       " '36',\n",
       " '9',\n",
       " '16',\n",
       " '26',\n",
       " '23',\n",
       " '49',\n",
       " '6',\n",
       " '13',\n",
       " '24',\n",
       " '16',\n",
       " '8',\n",
       " '21',\n",
       " '16',\n",
       " '19',\n",
       " '21',\n",
       " '15',\n",
       " '10',\n",
       " '18',\n",
       " '5',\n",
       " '49',\n",
       " '31',\n",
       " '82']"
      ]
     },
     "execution_count": 86,
     "metadata": {},
     "output_type": "execute_result"
    }
   ],
   "source": [
    "ProductReviews"
   ]
  },
  {
   "cell_type": "code",
   "execution_count": 87,
   "metadata": {},
   "outputs": [],
   "source": [
    "ProductReviews=[i.replace('Free Shipping','0').replace('Pakistan','0').replace('China','0') for i in ProductReviews]"
   ]
  },
  {
   "cell_type": "code",
   "execution_count": 88,
   "metadata": {},
   "outputs": [
    {
     "name": "stdout",
     "output_type": "stream",
     "text": [
      "['147', '120', '68', '40', '17', '65', '327', '17', '42', '47', '79', '101', '206', '50', '13', '50', '31', '24', '149', '28', '24', '2', '40', '39', '4', '0', '71', '22', '6', '4', '13', '194', '10', '5', '6', '298', '48', '22', '56', '23', '8', '115', '8', '15', '24', '39', '32', '102', '1', '98', '10', '14', '34', '9', '25', '44', '27', '1', '36', '9', '16', '26', '23', '49', '6', '13', '24', '16', '8', '21', '16', '19', '21', '15', '10', '18', '5', '49', '31', '82']\n"
     ]
    }
   ],
   "source": [
    "print(ProductReviews)"
   ]
  },
  {
   "cell_type": "code",
   "execution_count": 89,
   "metadata": {},
   "outputs": [],
   "source": [
    "data3=pd.DataFrame({\"Name\":ProductNames,\n",
    "                   \"Price\":ProductPrices,\n",
    "                   \"Reviews\":ProductReviews,\n",
    "                    \"Stars\":ProductStar,\n",
    "                   \"Country\":Pcountry,\n",
    "                   \"Daraz Mall availability\":DarazMall})"
   ]
  },
  {
   "cell_type": "code",
   "execution_count": 77,
   "metadata": {
    "scrolled": true
   },
   "outputs": [
    {
     "data": {
      "text/html": [
       "<div>\n",
       "<style scoped>\n",
       "    .dataframe tbody tr th:only-of-type {\n",
       "        vertical-align: middle;\n",
       "    }\n",
       "\n",
       "    .dataframe tbody tr th {\n",
       "        vertical-align: top;\n",
       "    }\n",
       "\n",
       "    .dataframe thead th {\n",
       "        text-align: right;\n",
       "    }\n",
       "</style>\n",
       "<table border=\"1\" class=\"dataframe\">\n",
       "  <thead>\n",
       "    <tr style=\"text-align: right;\">\n",
       "      <th></th>\n",
       "      <th>Name</th>\n",
       "      <th>Price</th>\n",
       "      <th>Reviews</th>\n",
       "      <th>Stars</th>\n",
       "      <th>Country</th>\n",
       "      <th>Daraz Mall availability</th>\n",
       "    </tr>\n",
       "  </thead>\n",
       "  <tbody>\n",
       "    <tr>\n",
       "      <th>0</th>\n",
       "      <td>Hontinga for Huawei Y9 Prime 2019 Case Luxury ...</td>\n",
       "      <td>441</td>\n",
       "      <td>147</td>\n",
       "      <td>4.7</td>\n",
       "      <td>Overseas/China</td>\n",
       "      <td>YES</td>\n",
       "    </tr>\n",
       "    <tr>\n",
       "      <th>1</th>\n",
       "      <td>Luxury 6D Plating Soft Casing Silicone Square ...</td>\n",
       "      <td>479</td>\n",
       "      <td>120</td>\n",
       "      <td>4.8</td>\n",
       "      <td>Overseas/China</td>\n",
       "      <td>YES</td>\n",
       "    </tr>\n",
       "    <tr>\n",
       "      <th>2</th>\n",
       "      <td>Hontinga for Redmi Note 11 / Note 11S Back Cov...</td>\n",
       "      <td>521</td>\n",
       "      <td>68</td>\n",
       "      <td>4.8</td>\n",
       "      <td>Pakistan</td>\n",
       "      <td>YES</td>\n",
       "    </tr>\n",
       "    <tr>\n",
       "      <th>3</th>\n",
       "      <td>Hontinga for Samsung Galaxy A03 Back Cover Lux...</td>\n",
       "      <td>445</td>\n",
       "      <td>40</td>\n",
       "      <td>4.4</td>\n",
       "      <td>Pakistan</td>\n",
       "      <td>YES</td>\n",
       "    </tr>\n",
       "    <tr>\n",
       "      <th>4</th>\n",
       "      <td>Hontinga for OPPO F11 Pro Back Cover Luxury 6D...</td>\n",
       "      <td>524</td>\n",
       "      <td>17</td>\n",
       "      <td>4.4</td>\n",
       "      <td>Pakistan</td>\n",
       "      <td>YES</td>\n",
       "    </tr>\n",
       "    <tr>\n",
       "      <th>...</th>\n",
       "      <td>...</td>\n",
       "      <td>...</td>\n",
       "      <td>...</td>\n",
       "      <td>...</td>\n",
       "      <td>...</td>\n",
       "      <td>...</td>\n",
       "    </tr>\n",
       "    <tr>\n",
       "      <th>75</th>\n",
       "      <td>Hontinga for Vivo V23 5G Back Cover Luxury 6D ...</td>\n",
       "      <td>524</td>\n",
       "      <td>18</td>\n",
       "      <td>4.5</td>\n",
       "      <td>Pakistan</td>\n",
       "      <td>YES</td>\n",
       "    </tr>\n",
       "    <tr>\n",
       "      <th>76</th>\n",
       "      <td>Lereach for OnePlus 9R Case Plating Ultra-thin...</td>\n",
       "      <td>550</td>\n",
       "      <td>5</td>\n",
       "      <td>4.8</td>\n",
       "      <td>Overseas/China</td>\n",
       "      <td>YES</td>\n",
       "    </tr>\n",
       "    <tr>\n",
       "      <th>77</th>\n",
       "      <td>Hontinga for OPPO A54 / A54 2021 Case Luxury 6...</td>\n",
       "      <td>524</td>\n",
       "      <td>49</td>\n",
       "      <td>5.0</td>\n",
       "      <td>Overseas/China</td>\n",
       "      <td>YES</td>\n",
       "    </tr>\n",
       "    <tr>\n",
       "      <th>78</th>\n",
       "      <td>Hontinga for OPPO F9 Case Luxury 6D Plating So...</td>\n",
       "      <td>445</td>\n",
       "      <td>31</td>\n",
       "      <td>5.0</td>\n",
       "      <td>Overseas/China</td>\n",
       "      <td>YES</td>\n",
       "    </tr>\n",
       "    <tr>\n",
       "      <th>79</th>\n",
       "      <td>Xiaomi 11T / 11T Pro , Full Back Protection Sh...</td>\n",
       "      <td>92</td>\n",
       "      <td>82</td>\n",
       "      <td>4.7</td>\n",
       "      <td>Overseas/China</td>\n",
       "      <td>NO</td>\n",
       "    </tr>\n",
       "  </tbody>\n",
       "</table>\n",
       "<p>80 rows × 6 columns</p>\n",
       "</div>"
      ],
      "text/plain": [
       "                                                 Name Price Reviews Stars  \\\n",
       "0   Hontinga for Huawei Y9 Prime 2019 Case Luxury ...   441     147   4.7   \n",
       "1   Luxury 6D Plating Soft Casing Silicone Square ...   479     120   4.8   \n",
       "2   Hontinga for Redmi Note 11 / Note 11S Back Cov...   521      68   4.8   \n",
       "3   Hontinga for Samsung Galaxy A03 Back Cover Lux...   445      40   4.4   \n",
       "4   Hontinga for OPPO F11 Pro Back Cover Luxury 6D...   524      17   4.4   \n",
       "..                                                ...   ...     ...   ...   \n",
       "75  Hontinga for Vivo V23 5G Back Cover Luxury 6D ...   524      18   4.5   \n",
       "76  Lereach for OnePlus 9R Case Plating Ultra-thin...   550       5   4.8   \n",
       "77  Hontinga for OPPO A54 / A54 2021 Case Luxury 6...   524      49   5.0   \n",
       "78  Hontinga for OPPO F9 Case Luxury 6D Plating So...   445      31   5.0   \n",
       "79  Xiaomi 11T / 11T Pro , Full Back Protection Sh...    92      82   4.7   \n",
       "\n",
       "           Country Daraz Mall availability  \n",
       "0   Overseas/China                     YES  \n",
       "1   Overseas/China                     YES  \n",
       "2         Pakistan                     YES  \n",
       "3         Pakistan                     YES  \n",
       "4         Pakistan                     YES  \n",
       "..             ...                     ...  \n",
       "75        Pakistan                     YES  \n",
       "76  Overseas/China                     YES  \n",
       "77  Overseas/China                     YES  \n",
       "78  Overseas/China                     YES  \n",
       "79  Overseas/China                      NO  \n",
       "\n",
       "[80 rows x 6 columns]"
      ]
     },
     "execution_count": 77,
     "metadata": {},
     "output_type": "execute_result"
    }
   ],
   "source": [
    "data3"
   ]
  },
  {
   "cell_type": "code",
   "execution_count": 19,
   "metadata": {
    "scrolled": false
   },
   "outputs": [
    {
     "data": {
      "text/html": [
       "<div>\n",
       "<style scoped>\n",
       "    .dataframe tbody tr th:only-of-type {\n",
       "        vertical-align: middle;\n",
       "    }\n",
       "\n",
       "    .dataframe tbody tr th {\n",
       "        vertical-align: top;\n",
       "    }\n",
       "\n",
       "    .dataframe thead th {\n",
       "        text-align: right;\n",
       "    }\n",
       "</style>\n",
       "<table border=\"1\" class=\"dataframe\">\n",
       "  <thead>\n",
       "    <tr style=\"text-align: right;\">\n",
       "      <th></th>\n",
       "      <th>Name</th>\n",
       "      <th>Price</th>\n",
       "      <th>Stars</th>\n",
       "      <th>Reviews</th>\n",
       "    </tr>\n",
       "  </thead>\n",
       "  <tbody>\n",
       "    <tr>\n",
       "      <th>0</th>\n",
       "      <td>Lenuo Luxury 6D Plating Soft Casing Silicone S...</td>\n",
       "      <td>837</td>\n",
       "      <td>4.6</td>\n",
       "      <td>14</td>\n",
       "    </tr>\n",
       "    <tr>\n",
       "      <th>1</th>\n",
       "      <td>Lenuo Luxury 6D Plating Soft Casing Silicone S...</td>\n",
       "      <td>837</td>\n",
       "      <td>4.7</td>\n",
       "      <td>23</td>\n",
       "    </tr>\n",
       "    <tr>\n",
       "      <th>2</th>\n",
       "      <td>Xiaomi Redmi Note 4 Case , Smoky Matte Shock P...</td>\n",
       "      <td>249</td>\n",
       "      <td>4.9</td>\n",
       "      <td>33</td>\n",
       "    </tr>\n",
       "    <tr>\n",
       "      <th>3</th>\n",
       "      <td>Huawei Nova Plus MATTE BLACK FLEXIBLE TPU CASE...</td>\n",
       "      <td>149</td>\n",
       "      <td>5.0</td>\n",
       "      <td>5</td>\n",
       "    </tr>\n",
       "    <tr>\n",
       "      <th>4</th>\n",
       "      <td>For Sony Xperia XZ3 Heavy Duty Armor Tough Hyb...</td>\n",
       "      <td>649</td>\n",
       "      <td>5.0</td>\n",
       "      <td>25</td>\n",
       "    </tr>\n",
       "    <tr>\n",
       "      <th>...</th>\n",
       "      <td>...</td>\n",
       "      <td>...</td>\n",
       "      <td>...</td>\n",
       "      <td>...</td>\n",
       "    </tr>\n",
       "    <tr>\n",
       "      <th>75</th>\n",
       "      <td>Xiaomi Redmi Note 7 / Note 7Pro Case , Smoky M...</td>\n",
       "      <td>249</td>\n",
       "      <td>4.7</td>\n",
       "      <td>46</td>\n",
       "    </tr>\n",
       "    <tr>\n",
       "      <th>76</th>\n",
       "      <td>Xiaomi Poco F3 Case , Soft TPU Camera Protecti...</td>\n",
       "      <td>185</td>\n",
       "      <td>4.9</td>\n",
       "      <td>35</td>\n",
       "    </tr>\n",
       "    <tr>\n",
       "      <th>77</th>\n",
       "      <td>Infinix Note 10 Pro , Full Protection Vinyl Sk...</td>\n",
       "      <td>99</td>\n",
       "      <td>4.6</td>\n",
       "      <td>112</td>\n",
       "    </tr>\n",
       "    <tr>\n",
       "      <th>78</th>\n",
       "      <td>Huawei Nova 3i Antishock Drop Resistance Armor...</td>\n",
       "      <td>449</td>\n",
       "      <td>5.0</td>\n",
       "      <td>58</td>\n",
       "    </tr>\n",
       "    <tr>\n",
       "      <th>79</th>\n",
       "      <td>Handfree Cover Charger Hard Case eva Coin Carr...</td>\n",
       "      <td>127</td>\n",
       "      <td>4.7</td>\n",
       "      <td>75</td>\n",
       "    </tr>\n",
       "  </tbody>\n",
       "</table>\n",
       "<p>80 rows × 4 columns</p>\n",
       "</div>"
      ],
      "text/plain": [
       "                                                 Name  Price  Stars  Reviews\n",
       "0   Lenuo Luxury 6D Plating Soft Casing Silicone S...    837    4.6       14\n",
       "1   Lenuo Luxury 6D Plating Soft Casing Silicone S...    837    4.7       23\n",
       "2   Xiaomi Redmi Note 4 Case , Smoky Matte Shock P...    249    4.9       33\n",
       "3   Huawei Nova Plus MATTE BLACK FLEXIBLE TPU CASE...    149    5.0        5\n",
       "4   For Sony Xperia XZ3 Heavy Duty Armor Tough Hyb...    649    5.0       25\n",
       "..                                                ...    ...    ...      ...\n",
       "75  Xiaomi Redmi Note 7 / Note 7Pro Case , Smoky M...    249    4.7       46\n",
       "76  Xiaomi Poco F3 Case , Soft TPU Camera Protecti...    185    4.9       35\n",
       "77  Infinix Note 10 Pro , Full Protection Vinyl Sk...     99    4.6      112\n",
       "78  Huawei Nova 3i Antishock Drop Resistance Armor...    449    5.0       58\n",
       "79  Handfree Cover Charger Hard Case eva Coin Carr...    127    4.7       75\n",
       "\n",
       "[80 rows x 4 columns]"
      ]
     },
     "execution_count": 19,
     "metadata": {},
     "output_type": "execute_result"
    }
   ],
   "source": [
    "#Output\n",
    "df"
   ]
  },
  {
   "cell_type": "markdown",
   "metadata": {},
   "source": [
    "# Question 3  (30 marks)"
   ]
  },
  {
   "cell_type": "markdown",
   "metadata": {},
   "source": [
    "<!-- Which Products are on Flash sale? Display Product name, Actual Price, Discounted Price, Discount Percentage, Rating, No. of Reviews, Top 3 reviews displayed.\n",
    "\n",
    "Display output must be like this. Products may vary. -->\n",
    "\n",
    "If a user wants to make a store to sell something, lets say \"Mobile Covers\". He/She wants to see folowing things:\n",
    "1. Top 10 Sellers store names\n",
    "2. Daraz Mall Store/ Private store\n",
    "3. Total \"Mobile Covers\" listings on his store\n",
    "4. Avg Prices\n",
    "5. Avg Units selling\n",
    "6. Positive Seller Ratings\n",
    "7. Seller Country"
   ]
  },
  {
   "cell_type": "code",
   "execution_count": 3,
   "metadata": {},
   "outputs": [
    {
     "data": {
      "text/html": [
       "<div>\n",
       "<style scoped>\n",
       "    .dataframe tbody tr th:only-of-type {\n",
       "        vertical-align: middle;\n",
       "    }\n",
       "\n",
       "    .dataframe tbody tr th {\n",
       "        vertical-align: top;\n",
       "    }\n",
       "\n",
       "    .dataframe thead th {\n",
       "        text-align: right;\n",
       "    }\n",
       "</style>\n",
       "<table border=\"1\" class=\"dataframe\">\n",
       "  <thead>\n",
       "    <tr style=\"text-align: right;\">\n",
       "      <th></th>\n",
       "      <th>Store Name</th>\n",
       "      <th>Daraz Mall/Private</th>\n",
       "      <th>Avg Price</th>\n",
       "      <th>Listings</th>\n",
       "      <th>Avg unit selling</th>\n",
       "      <th>Seller Ratings</th>\n",
       "      <th>Country</th>\n",
       "      <th>Followers</th>\n",
       "    </tr>\n",
       "  </thead>\n",
       "  <tbody>\n",
       "    <tr>\n",
       "      <th>0</th>\n",
       "      <td>Hontinga</td>\n",
       "      <td>Daraz Mall</td>\n",
       "      <td>565</td>\n",
       "      <td>187414</td>\n",
       "      <td>110</td>\n",
       "      <td>93</td>\n",
       "      <td>Overseas</td>\n",
       "      <td>29919</td>\n",
       "    </tr>\n",
       "    <tr>\n",
       "      <th>1</th>\n",
       "      <td>ABC MOBILE ACCESSORIES STORE ( FAISALABAD )</td>\n",
       "      <td>Private</td>\n",
       "      <td>95</td>\n",
       "      <td>438</td>\n",
       "      <td>29</td>\n",
       "      <td>93</td>\n",
       "      <td>Pakistan</td>\n",
       "      <td>11969</td>\n",
       "    </tr>\n",
       "  </tbody>\n",
       "</table>\n",
       "</div>"
      ],
      "text/plain": [
       "                                    Store Name Daraz Mall/Private  Avg Price  \\\n",
       "0                                     Hontinga         Daraz Mall        565   \n",
       "1  ABC MOBILE ACCESSORIES STORE ( FAISALABAD )            Private         95   \n",
       "\n",
       "   Listings  Avg unit selling  Seller Ratings   Country  Followers  \n",
       "0    187414               110              93  Overseas      29919  \n",
       "1       438                29              93  Pakistan      11969  "
      ]
     },
     "execution_count": 3,
     "metadata": {},
     "output_type": "execute_result"
    }
   ],
   "source": [
    "#Run this cell to see the sample output\n",
    "import pandas as pd\n",
    "pd.read_csv('output.csv')"
   ]
  },
  {
   "cell_type": "code",
   "execution_count": 118,
   "metadata": {},
   "outputs": [],
   "source": [
    "import numpy as np"
   ]
  },
  {
   "cell_type": "code",
   "execution_count": 91,
   "metadata": {},
   "outputs": [],
   "source": [
    "query2 = 'mobile covers'"
   ]
  },
  {
   "cell_type": "code",
   "execution_count": 92,
   "metadata": {},
   "outputs": [],
   "source": [
    "front = \"https://www.daraz.pk/catalog/?q=\"\n",
    "end = \"&_keyori=ss\"\n",
    "query2.replace(' ','+')\n",
    "url4=front+query.replace(' ','+')+end"
   ]
  },
  {
   "cell_type": "code",
   "execution_count": 93,
   "metadata": {},
   "outputs": [],
   "source": [
    "Driver.get(url4)\n",
    "time.sleep(10)"
   ]
  },
  {
   "cell_type": "code",
   "execution_count": 135,
   "metadata": {},
   "outputs": [],
   "source": [
    "AllProducts=Driver.find_elements(By.CLASS_NAME,'gridItem--Yd0sa')"
   ]
  },
  {
   "cell_type": "code",
   "execution_count": 136,
   "metadata": {
    "scrolled": false
   },
   "outputs": [
    {
     "name": "stdout",
     "output_type": "stream",
     "text": [
      "NO pop Up\n",
      "NO pop Up\n",
      "NO pop Up\n",
      "NO pop Up\n",
      "NO pop Up\n",
      "NO pop Up\n",
      "NO pop Up\n",
      "NO pop Up\n",
      "NO pop Up\n",
      "NO pop Up\n",
      "NO pop Up\n",
      "NO pop Up\n",
      "NO pop Up\n",
      "NO pop Up\n",
      "NO pop Up\n",
      "NO pop Up\n",
      "NO pop Up\n",
      "NO pop Up\n",
      "NO pop Up\n",
      "NO pop Up\n",
      "NO pop Up\n",
      "NO pop Up\n",
      "NO pop Up\n",
      "NO pop Up\n"
     ]
    }
   ],
   "source": [
    "BAvgPrice=[]\n",
    "BavgSellingUnit=[]\n",
    "Blisting=[]\n",
    "Bcountry = []\n",
    "Brating = []\n",
    "Bfollower=[]\n",
    "Bdaraz=[]\n",
    "Topbrand=[]\n",
    "for j in range(0,2):\n",
    "    if j>0 and len(Topbrand)<10:\n",
    "        Driver.find_element(By.XPATH, '//*[@id=\"root\"]/div/div[2]/div/div/div[1]/div[3]/div/ul/li[9]/a').click()\n",
    "        time.sleep(10)\n",
    "#     AllProducts=Driver.find_elements(By.CLASS_NAME,'gridItem--Yd0sa')\n",
    "    if len(Topbrand)<10:\n",
    "        for i in range(len(AllProducts)):\n",
    "            AllProducts=Driver.find_elements(By.CLASS_NAME,'gridItem--Yd0sa')\n",
    "            time.sleep(4)\n",
    "            AllProducts[i].click()\n",
    "            time.sleep(4)\n",
    "            try:\n",
    "                AllProducts[i].find_element(By.XPATH,'/html/body/div[6]/div/div[2]/div/span/i').click()\n",
    "            except:\n",
    "                print(\"NO pop Up\")\n",
    "            time.sleep(4)\n",
    "            try:\n",
    "                brandname=Driver.find_element(By.XPATH,'//*[@id=\"module_seller_info\"]/div/div[1]/div[1]/div[2]/a[1]')\n",
    "            except:\n",
    "                print(\"Brand not Found\")\n",
    "\n",
    "            if i==0:\n",
    "                Topbrand.append(brandname.text)\n",
    "                try:\n",
    "                    b_country=Driver.find_element(By.CLASS_NAME,'delivery-option-item__title')\n",
    "                    Bcountry.append(b_country.text)\n",
    "                except:\n",
    "                    print(\"Country Error\")\n",
    "                Driver.execute_script(\"window.scrollTo(0,450)\")\n",
    "                Driver.find_element(By.XPATH,'/html/body/div[4]/div/div[3]/div[2]/div/div[2]/div[5]/div/div[3]/a').click()\n",
    "                time.sleep(5)\n",
    "                try:\n",
    "                    #mall\n",
    "                    mall=Driver.find_element(By.XPATH,'/html/body/div[3]/div/div/div[2]/div/div/div/div[2]/div[1]/div/div/div/div[2]/div[2]/img')\n",
    "                    Bdaraz.append(\"Daraz Mall\")\n",
    "                except:\n",
    "                    Bdaraz.append(\"Private\")\n",
    "                try:   \n",
    "                    #follower\n",
    "                    follower=Driver.find_element(By.XPATH,'/html/body/div[3]/div/div/div[2]/div/div/div/div[2]/div[1]/div/div/div/div[2]/div[2]/div')\n",
    "                    Bfollower.append(follower.text)\n",
    "                except:\n",
    "                    print(\"Follower Error\")\n",
    "                try:\n",
    "                    #rating\n",
    "                    rating=Driver.find_element(By.XPATH,'/html/body/div[3]/div/div/div[2]/div/div/div/div[2]/div[1]/div/div/div/div[2]/div[3]')\n",
    "                    Brating.append(rating.text)\n",
    "                except:\n",
    "                    print('Rating Error')\n",
    "                time.sleep(5)\n",
    "#                 --------------------------------------------------------------------------------------------------------\n",
    "                Driver.find_element(By.XPATH,'/html/body/div[3]/div/div/div[2]/div/div/div/div[2]/div[2]/div/div/div[3]/div/input').send_keys('Mobiles cover'+Keys.RETURN)\n",
    "                time.sleep(5)\n",
    "                listing=Driver.find_element(By.XPATH,'/html/body/div[3]/div/div[3]/div/div/div[1]/div[1]/div/div[1]/div/div/span[1]')\n",
    "                Blisting.append(listing.text.split()[0])\n",
    "                BProductPrices=[]\n",
    "                BProductReviews=[]\n",
    "                AllProducts=Driver.find_elements(By.CLASS_NAME,'inner--SODwy')\n",
    "                for x in AllProducts:\n",
    "                    Pprice=x.find_element(By.CLASS_NAME,'price--NVB62')\n",
    "                    Previews=x.find_element(By.CLASS_NAME,'rateAndLoc--XWchq')\n",
    "                    BProductPrices.append(Pprice.text.replace('Rs. ',''))\n",
    "                    BProductReviews.append(Previews.text.split('\\n')[0].replace('(','').replace(')',''))\n",
    "                time.sleep(4)\n",
    "                \n",
    "                BProductPrices=[int(i) for i in BProductPrices]\n",
    "                BProductReviews=[i.replace('Free Shipping','0').replace('Pakistan','0').replace('China','0') for i in BProductReviews]\n",
    "                BProductReviews=[int(i) for i in BProductReviews]\n",
    "                AvgPrice=np.array(BProductReviews)\n",
    "                AvgSellingUnit=np.array(BProductPrices)  \n",
    "                BAvgPrice.append(AvgPrice.mean())\n",
    "                BavgSellingUnit.append(AvgSellingUnit.mean())\n",
    "                Driver.back()\n",
    "                time.sleep(3)\n",
    "#                 ---------------------------------------------------------------------------------------------------------\n",
    "                Driver.back()\n",
    "            time.sleep(3)\n",
    "            brandname=Driver.find_element(By.XPATH,'//*[@id=\"module_seller_info\"]/div/div[1]/div[1]/div[2]/a[1]')\n",
    "            if brandname.text not in Topbrand:\n",
    "                try:\n",
    "                    b_country=Driver.find_element(By.CLASS_NAME,'delivery-option-item__title')\n",
    "                    Bcountry.append(b_country.text)\n",
    "                except:\n",
    "                    print(\"Country Error\")                \n",
    "                Driver.execute_script(\"window.scrollTo(0,450)\")\n",
    "                time.sleep(3)\n",
    "                Topbrand.append(brandname.text)\n",
    "                Driver.find_element(By.XPATH,'/html/body/div[4]/div/div[3]/div[2]/div/div[2]/div[5]/div/div[3]/a').click()\n",
    "                time.sleep(5)\n",
    "                try:\n",
    "                    #mall\n",
    "                    mall=Driver.find_element(By.XPATH,'/html/body/div[3]/div/div/div[2]/div/div/div/div[2]/div[1]/div/div/div/div[2]/div[2]/img')\n",
    "                    Bdaraz.append('Daraz Mall')\n",
    "                except:\n",
    "                    Bdaraz.append('Private')\n",
    "                try:   \n",
    "                    #follower\n",
    "                    follower=Driver.find_element(By.XPATH,'/html/body/div[3]/div/div/div[2]/div/div/div/div[2]/div[1]/div/div/div/div[2]/div[2]/div')\n",
    "                    Bfollower.append(follower.text)\n",
    "                except:\n",
    "                    print(\"Follower Error\")\n",
    "                try:\n",
    "                    #rating\n",
    "                    rating=Driver.find_element(By.XPATH,'/html/body/div[3]/div/div/div[2]/div/div/div/div[2]/div[1]/div/div/div/div[2]/div[3]')\n",
    "                    Brating.append(rating.text)\n",
    "                except:\n",
    "                    print('Rating Error')\n",
    "                time.sleep(5)\n",
    "#                 --------------------------------------------------------------------------------------------------------\n",
    "                try:\n",
    "                    Driver.find_element(By.XPATH,'/html/body/div[3]/div/div/div[2]/div/div/div/div[2]/div[2]/div/div/div[3]/div/input').send_keys('Mobiles cover'+Keys.RETURN)\n",
    "                except:\n",
    "                    Driver.find_element(By.XPATH,'/html/body/div[3]/div/div/div[2]/div/div/div/div[2]/div[2]/div/div/div[2]/div/input').send_keys('Mobiles cover'+Keys.RETURN)\n",
    "                time.sleep(5)\n",
    "                listing=Driver.find_element(By.XPATH,'/html/body/div[3]/div/div[3]/div/div/div[1]/div[1]/div/div[1]/div/div/span[1]')\n",
    "                Blisting.append(listing.text.split()[0])\n",
    "                BProductPrices=[]\n",
    "                BProductReviews=[]\n",
    "                AllProducts=Driver.find_elements(By.CLASS_NAME,'inner--SODwy')\n",
    "                for x in AllProducts:\n",
    "                    Pprice=x.find_element(By.CLASS_NAME,'price--NVB62')\n",
    "                    Previews=x.find_element(By.CLASS_NAME,'rateAndLoc--XWchq')\n",
    "                    BProductPrices.append(Pprice.text.replace('Rs. ',''))\n",
    "                    BProductReviews.append(Previews.text.split('\\n')[0].replace('(','').replace(')',''))\n",
    "                time.sleep(4)\n",
    "                \n",
    "                BProductPrices=[int(i) for i in BProductPrices]\n",
    "                BProductReviews=[i.replace('Free Shipping','0').replace('Pakistan','0').replace('China','0') for i in BProductReviews]\n",
    "                BProductReviews=[int(i) for i in BProductReviews]\n",
    "                AvgPrice=np.array(BProductPrices)\n",
    "                AvgSellingUnit=np.array(BProductReviews)  \n",
    "                BAvgPrice.append(AvgPrice.mean())\n",
    "                BavgSellingUnit.append(AvgSellingUnit.mean())\n",
    "                Driver.back()\n",
    "                time.sleep(3)\n",
    "#                 ---------------------------------------------------------------------------------------------------------\n",
    " \n",
    "                Driver.back()\n",
    "\n",
    "            #Driver.execute_script(\"window.scrollTo(0,1550)\")\n",
    "            time.sleep(3)\n",
    "            #Pstar=i.find_element(By.CLASS_NAME,'score')\n",
    "            #ProductStar.append(Pstar.star)\n",
    "            Driver.back()\n",
    "            time.sleep(2)\n",
    "            if len(Topbrand)==10:\n",
    "                break\n",
    "            "
   ]
  },
  {
   "cell_type": "code",
   "execution_count": null,
   "metadata": {},
   "outputs": [],
   "source": []
  },
  {
   "cell_type": "code",
   "execution_count": 103,
   "metadata": {},
   "outputs": [
    {
     "data": {
      "text/plain": [
       "['Hontinga',\n",
       " 'TechFort.',\n",
       " 'Deal Box',\n",
       " 'ABC MOBILE ACCESSORIES STORE ( FAISALABAD )',\n",
       " 'KD Accessories (Karachi)',\n",
       " 'Lenuo',\n",
       " 'Jizetin Official Store',\n",
       " 'Cell net Pro',\n",
       " 'Future Accessories',\n",
       " 'UCUC']"
      ]
     },
     "execution_count": 103,
     "metadata": {},
     "output_type": "execute_result"
    }
   ],
   "source": [
    "Topbrand"
   ]
  },
  {
   "cell_type": "code",
   "execution_count": 142,
   "metadata": {},
   "outputs": [],
   "source": [
    "Bfollower=[int(i.replace(' Followers','')) for i in Bfollower]"
   ]
  },
  {
   "cell_type": "code",
   "execution_count": 113,
   "metadata": {},
   "outputs": [
    {
     "data": {
      "text/plain": [
       "[30704, 407, 14176, 12018, 5509, 14917, 4295, 5350, 1674, 7932]"
      ]
     },
     "execution_count": 113,
     "metadata": {},
     "output_type": "execute_result"
    }
   ],
   "source": [
    "Bfollower"
   ]
  },
  {
   "cell_type": "code",
   "execution_count": 141,
   "metadata": {},
   "outputs": [],
   "source": [
    "Brating=[i.split()[0] for i in Brating]"
   ]
  },
  {
   "cell_type": "code",
   "execution_count": 115,
   "metadata": {},
   "outputs": [
    {
     "data": {
      "text/plain": [
       "['93%', '93%', '84%', '93%', '87%', '91%', '94%', '87%', '92%', '93%']"
      ]
     },
     "execution_count": 115,
     "metadata": {},
     "output_type": "execute_result"
    }
   ],
   "source": [
    "Brating"
   ]
  },
  {
   "cell_type": "code",
   "execution_count": 143,
   "metadata": {},
   "outputs": [],
   "source": [
    "Bcountry=[i.replace('Ships from Overseas','Overseas').replace('Standard Delivery','Pakistan') for i in Bcountry]"
   ]
  },
  {
   "cell_type": "code",
   "execution_count": 117,
   "metadata": {},
   "outputs": [
    {
     "data": {
      "text/plain": [
       "['Overseas',\n",
       " 'Pakistan',\n",
       " 'Pakistan',\n",
       " 'Pakistan',\n",
       " 'Pakistan',\n",
       " 'Overseas',\n",
       " 'Overseas',\n",
       " 'Pakistan',\n",
       " 'Pakistan',\n",
       " 'Overseas']"
      ]
     },
     "execution_count": 117,
     "metadata": {},
     "output_type": "execute_result"
    }
   ],
   "source": [
    "Bcountry"
   ]
  },
  {
   "cell_type": "code",
   "execution_count": 131,
   "metadata": {},
   "outputs": [
    {
     "data": {
      "text/plain": [
       "[47.0, 72.9, 15.0, 62.45, 40.475, 17.725]"
      ]
     },
     "execution_count": 131,
     "metadata": {},
     "output_type": "execute_result"
    }
   ],
   "source": [
    "BAvgPrice"
   ]
  },
  {
   "cell_type": "code",
   "execution_count": 137,
   "metadata": {},
   "outputs": [
    {
     "data": {
      "text/plain": [
       "['Hontinga',\n",
       " 'Deal Box',\n",
       " 'ABC MOBILE ACCESSORIES STORE ( FAISALABAD )',\n",
       " 'KD Accessories (Karachi)',\n",
       " 'Lenuo',\n",
       " 'Jizetin Official Store',\n",
       " 'Cell net Pro',\n",
       " 'Future Accessories',\n",
       " 'UCUC',\n",
       " 'TA Store Mall']"
      ]
     },
     "execution_count": 137,
     "metadata": {},
     "output_type": "execute_result"
    }
   ],
   "source": [
    "Topbrand"
   ]
  },
  {
   "cell_type": "code",
   "execution_count": 138,
   "metadata": {},
   "outputs": [
    {
     "data": {
      "text/plain": [
       "['191063', '1', '497', '525', '6075', '76745', '424', '309', '190038', '27338']"
      ]
     },
     "execution_count": 138,
     "metadata": {},
     "output_type": "execute_result"
    }
   ],
   "source": [
    "Blisting"
   ]
  },
  {
   "cell_type": "code",
   "execution_count": 150,
   "metadata": {},
   "outputs": [],
   "source": [
    "data4=pd.DataFrame({\"Store Names\":Topbrand,\n",
    "                    \"Daraz Mall availability\":Bdaraz,\n",
    "                   \"Avg Price\":BAvgPrice,\n",
    "                   \"Listings\":Blisting,\n",
    "                    \"Avg Unit Selling\":BavgSellingUnit,\n",
    "                    \"Seller Ratings\":Brating,\n",
    "                   \"Country\":Bcountry,\n",
    "                   \"Followers\":Bfollower})"
   ]
  },
  {
   "cell_type": "code",
   "execution_count": 151,
   "metadata": {},
   "outputs": [
    {
     "data": {
      "text/html": [
       "<div>\n",
       "<style scoped>\n",
       "    .dataframe tbody tr th:only-of-type {\n",
       "        vertical-align: middle;\n",
       "    }\n",
       "\n",
       "    .dataframe tbody tr th {\n",
       "        vertical-align: top;\n",
       "    }\n",
       "\n",
       "    .dataframe thead th {\n",
       "        text-align: right;\n",
       "    }\n",
       "</style>\n",
       "<table border=\"1\" class=\"dataframe\">\n",
       "  <thead>\n",
       "    <tr style=\"text-align: right;\">\n",
       "      <th></th>\n",
       "      <th>Store Names</th>\n",
       "      <th>Daraz Mall availability</th>\n",
       "      <th>Avg Price</th>\n",
       "      <th>Listings</th>\n",
       "      <th>Avg Unit Selling</th>\n",
       "      <th>Seller Ratings</th>\n",
       "      <th>Country</th>\n",
       "      <th>Followers</th>\n",
       "    </tr>\n",
       "  </thead>\n",
       "  <tbody>\n",
       "    <tr>\n",
       "      <th>0</th>\n",
       "      <td>Hontinga</td>\n",
       "      <td>Daraz Mall</td>\n",
       "      <td>546.550</td>\n",
       "      <td>191063</td>\n",
       "      <td>56.700</td>\n",
       "      <td>93%</td>\n",
       "      <td>Overseas</td>\n",
       "      <td>30717</td>\n",
       "    </tr>\n",
       "    <tr>\n",
       "      <th>1</th>\n",
       "      <td>Deal Box</td>\n",
       "      <td>Private</td>\n",
       "      <td>95.000</td>\n",
       "      <td>1</td>\n",
       "      <td>15.000</td>\n",
       "      <td>84%</td>\n",
       "      <td>Pakistan</td>\n",
       "      <td>14184</td>\n",
       "    </tr>\n",
       "    <tr>\n",
       "      <th>2</th>\n",
       "      <td>ABC MOBILE ACCESSORIES STORE ( FAISALABAD )</td>\n",
       "      <td>Private</td>\n",
       "      <td>99.375</td>\n",
       "      <td>497</td>\n",
       "      <td>62.450</td>\n",
       "      <td>93%</td>\n",
       "      <td>Pakistan</td>\n",
       "      <td>12019</td>\n",
       "    </tr>\n",
       "    <tr>\n",
       "      <th>3</th>\n",
       "      <td>KD Accessories (Karachi)</td>\n",
       "      <td>Private</td>\n",
       "      <td>127.175</td>\n",
       "      <td>525</td>\n",
       "      <td>40.475</td>\n",
       "      <td>87%</td>\n",
       "      <td>Pakistan</td>\n",
       "      <td>5509</td>\n",
       "    </tr>\n",
       "    <tr>\n",
       "      <th>4</th>\n",
       "      <td>Lenuo</td>\n",
       "      <td>Daraz Mall</td>\n",
       "      <td>561.750</td>\n",
       "      <td>6075</td>\n",
       "      <td>72.900</td>\n",
       "      <td>91%</td>\n",
       "      <td>Overseas</td>\n",
       "      <td>14922</td>\n",
       "    </tr>\n",
       "    <tr>\n",
       "      <th>5</th>\n",
       "      <td>Jizetin Official Store</td>\n",
       "      <td>Daraz Mall</td>\n",
       "      <td>507.600</td>\n",
       "      <td>76745</td>\n",
       "      <td>17.725</td>\n",
       "      <td>94%</td>\n",
       "      <td>Overseas</td>\n",
       "      <td>4300</td>\n",
       "    </tr>\n",
       "    <tr>\n",
       "      <th>6</th>\n",
       "      <td>Cell net Pro</td>\n",
       "      <td>Private</td>\n",
       "      <td>147.550</td>\n",
       "      <td>424</td>\n",
       "      <td>24.525</td>\n",
       "      <td>87%</td>\n",
       "      <td>Pakistan</td>\n",
       "      <td>5355</td>\n",
       "    </tr>\n",
       "    <tr>\n",
       "      <th>7</th>\n",
       "      <td>Future Accessories</td>\n",
       "      <td>Private</td>\n",
       "      <td>148.700</td>\n",
       "      <td>309</td>\n",
       "      <td>30.575</td>\n",
       "      <td>92%</td>\n",
       "      <td>Pakistan</td>\n",
       "      <td>1675</td>\n",
       "    </tr>\n",
       "    <tr>\n",
       "      <th>8</th>\n",
       "      <td>UCUC</td>\n",
       "      <td>Daraz Mall</td>\n",
       "      <td>472.400</td>\n",
       "      <td>190038</td>\n",
       "      <td>13.575</td>\n",
       "      <td>93%</td>\n",
       "      <td>Overseas</td>\n",
       "      <td>7936</td>\n",
       "    </tr>\n",
       "    <tr>\n",
       "      <th>9</th>\n",
       "      <td>TA Store Mall</td>\n",
       "      <td>Private</td>\n",
       "      <td>506.550</td>\n",
       "      <td>27338</td>\n",
       "      <td>9.725</td>\n",
       "      <td>94%</td>\n",
       "      <td>Overseas</td>\n",
       "      <td>943</td>\n",
       "    </tr>\n",
       "  </tbody>\n",
       "</table>\n",
       "</div>"
      ],
      "text/plain": [
       "                                   Store Names Daraz Mall availability  \\\n",
       "0                                     Hontinga              Daraz Mall   \n",
       "1                                     Deal Box                 Private   \n",
       "2  ABC MOBILE ACCESSORIES STORE ( FAISALABAD )                 Private   \n",
       "3                     KD Accessories (Karachi)                 Private   \n",
       "4                                        Lenuo              Daraz Mall   \n",
       "5                       Jizetin Official Store              Daraz Mall   \n",
       "6                                 Cell net Pro                 Private   \n",
       "7                           Future Accessories                 Private   \n",
       "8                                         UCUC              Daraz Mall   \n",
       "9                                TA Store Mall                 Private   \n",
       "\n",
       "   Avg Price Listings  Avg Unit Selling Seller Ratings   Country  Followers  \n",
       "0    546.550   191063            56.700            93%  Overseas      30717  \n",
       "1     95.000        1            15.000            84%  Pakistan      14184  \n",
       "2     99.375      497            62.450            93%  Pakistan      12019  \n",
       "3    127.175      525            40.475            87%  Pakistan       5509  \n",
       "4    561.750     6075            72.900            91%  Overseas      14922  \n",
       "5    507.600    76745            17.725            94%  Overseas       4300  \n",
       "6    147.550      424            24.525            87%  Pakistan       5355  \n",
       "7    148.700      309            30.575            92%  Pakistan       1675  \n",
       "8    472.400   190038            13.575            93%  Overseas       7936  \n",
       "9    506.550    27338             9.725            94%  Overseas        943  "
      ]
     },
     "execution_count": 151,
     "metadata": {},
     "output_type": "execute_result"
    }
   ],
   "source": [
    "data4"
   ]
  }
 ],
 "metadata": {
  "kernelspec": {
   "display_name": "Python 3 (ipykernel)",
   "language": "python",
   "name": "python3"
  },
  "language_info": {
   "codemirror_mode": {
    "name": "ipython",
    "version": 3
   },
   "file_extension": ".py",
   "mimetype": "text/x-python",
   "name": "python",
   "nbconvert_exporter": "python",
   "pygments_lexer": "ipython3",
   "version": "3.9.12"
  }
 },
 "nbformat": 4,
 "nbformat_minor": 2
}
